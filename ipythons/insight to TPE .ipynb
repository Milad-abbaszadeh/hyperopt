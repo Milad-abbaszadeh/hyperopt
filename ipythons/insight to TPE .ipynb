{
 "cells": [
  {
   "cell_type": "code",
   "execution_count": 1,
   "metadata": {},
   "outputs": [],
   "source": [
    "import pickle\n",
    "import numpy as np"
   ]
  },
  {
   "cell_type": "code",
   "execution_count": 2,
   "metadata": {},
   "outputs": [],
   "source": [
    "def trial_utils(trial,start,end):\n",
    "    losses = trial.losses()\n",
    "    losses = [abs(i) for i in losses]\n",
    "    losses = np.array(losses)\n",
    "    best_indices = np.argwhere(losses == np.amin(losses))\n",
    "    best_indices = best_indices.flatten().tolist()\n",
    "    avg_score = losses[start:end].mean()\n",
    "    \n",
    "\n",
    "    best_score_id = trial.best_trial['tid']\n",
    "    best_score = abs(trial.best_trial['result']['loss'])\n",
    "    \n",
    "    \n",
    "\n",
    "    print('Best score:{} \\n best score id:{} \\n Average score[{},{}]:{}'.format(best_score,best_score_id,start,end,avg_score))\n",
    "    print(\"all best scores idices {}\".format(best_indices))\n",
    "    print(\"-----------\")\n",
    "    all_best = {}\n",
    "    for t in trial.trials:\n",
    "        if abs(t['result']['loss']) == best_score:\n",
    "            all_best[t['tid']]= t['misc']['vals']\n",
    "#     return all_best    \n",
    "from hyperopt import fmin, tpe, hp, STATUS_OK,Trials,trials_from_docs\n",
    "import random\n",
    "from random import seed\n",
    "def find_n_points(trial,number,strategy):\n",
    "    \"\"\"\n",
    "    strategy :BEST - WORSE -RANDOM - BESTBEST\n",
    "    based on  the strategy it returns N subset of provided trials\n",
    "    \"\"\"\n",
    "    better_avg_index = []\n",
    "    worse_avg_index =[]\n",
    "    new_trial = []\n",
    "    \n",
    "    trial_loss = trial.losses()\n",
    "    trial_loss = [abs(i) for i in trial_loss]\n",
    "    \n",
    "    avg_trial = np.array(trial_loss).mean()\n",
    "\n",
    "    print(\"AVG score is {}\".format(avg_trial))\n",
    "    \n",
    "    for x in enumerate(trial_loss):\n",
    "        if x[1] > avg_trial:\n",
    "            better_avg_index.append(x[0])\n",
    "        else:\n",
    "            worse_avg_index.append(x[0])\n",
    "        \n",
    "    if strategy == 'BEST':\n",
    "        selected_list = better_avg_index\n",
    "    if strategy == 'BESTBEST':\n",
    "        selected_list = np.argsort(trial_loss)[0:number]\n",
    "        \n",
    "    if strategy == \"WORSE\":\n",
    "        selected_list = worse_avg_index\n",
    "    if strategy == 'MINMAX':\n",
    "        score = int(number/2)\n",
    "        list_1 = np.argsort(trial_loss)[0:score]\n",
    "        list_2 = np.argsort(trial_loss)[-score:]\n",
    "        print(list_1)\n",
    "        print(list_2)\n",
    "        selected_list = [*list_2 ,*list_1]\n",
    "        print(selected_list)\n",
    "    if strategy == \"RANDOM\":\n",
    "        seed(1)\n",
    "        selected_list = random.sample(range(1, len(trial.trials)), number)\n",
    "#         print(selected_list)\n",
    "        \n",
    "    for i in range(len(trial.trials)):\n",
    "        \n",
    "        if i in selected_list[0:number]:\n",
    "            new_trial.append(trial.trials[i])\n",
    "    empty_trial = Trials()\n",
    "    trial_merged = trials_from_docs(list(empty_trial)+new_trial)\n",
    "    return trial_merged  "
   ]
  },
  {
   "cell_type": "code",
   "execution_count": 1,
   "metadata": {},
   "outputs": [],
   "source": [
    "def find_n_initial(trial, N, good, bad):\n",
    "    losses = trial.losses()\n",
    "    losses_index = sorted(range(len(losses)), key=lambda k: losses[k], reverse=True)\n",
    "\n",
    "    selected_list = []\n",
    "    for i, v in enumerate(losses_index):\n",
    "        if i >= N:\n",
    "            break\n",
    "        else:\n",
    "            if i < N - good:\n",
    "                selected_list.append(v)\n",
    "            else:\n",
    "                Bests = losses_index[-good:]\n",
    "                selected_list = selected_list + Bests\n",
    "                break\n",
    "\n",
    "    new_trial = []\n",
    "    for i in selected_list:\n",
    "        new_trial.append(trial.trials[i])\n",
    "\n",
    "    empty_trial = Trials()\n",
    "    trial_merged = trials_from_docs(list(empty_trial) + new_trial)\n",
    "\n",
    "    for i, v in enumerate(trial_merged.trials):\n",
    "\n",
    "        need_to_change = trial_merged.trials[i]['tid']\n",
    "\n",
    "        trial_merged.trials[i]['tid'] = i\n",
    "        trial_merged.trials[i]['misc']['tid'] = i\n",
    "        for key in v['misc']['idxs']:\n",
    "            if v['misc']['idxs'][str(key)] == [need_to_change]:\n",
    "                trial_merged.trials[i]['misc']['idxs'][str(key)] = [i]\n",
    "    return trial_merged\n"
   ]
  },
  {
   "cell_type": "markdown",
   "metadata": {},
   "source": [
    "# 0 initial 100 iteration"
   ]
  },
  {
   "cell_type": "code",
   "execution_count": 37,
   "metadata": {},
   "outputs": [
    {
     "name": "stdout",
     "output_type": "stream",
     "text": [
      "100%|██████████| 100/100 [00:00<00:00, 332.54it/s, best loss: 0.004264407779517356]\n",
      "{'x': -0.06530243318221271}\n",
      "Best score:0.004264407779517356 \n",
      " best score id:66 \n",
      " Average score[0,100]:22.23168055147256\n",
      "all best scores idices [66]\n",
      "-----------\n"
     ]
    }
   ],
   "source": [
    "import pickle\n",
    "import time\n",
    "from hyperopt import fmin, tpe, hp, STATUS_OK,Trials\n",
    "import numpy as np\n",
    "\n",
    "\n",
    "\n",
    "\n",
    "def objective(args):\n",
    "    x= args\n",
    "#     print(\"X is {} and loss is {}\".format(x,x[0] ** 2))\n",
    "    return {'loss': x[0] ** 2, 'status': STATUS_OK }\n",
    "\n",
    "\n",
    "space  = [hp.uniform('x',-10,10)\n",
    "]\n",
    "trial = Trials()\n",
    "\n",
    "best, new_trial= fmin(objective,\n",
    "    space=space,\n",
    "    algo=tpe.suggest,\n",
    "    max_evals=100,\n",
    "    trials=trial,\n",
    "    rstate=np.random.RandomState(10))\n",
    "\n",
    "print(best)\n",
    "trial_utils(trial,0,100)"
   ]
  },
  {
   "cell_type": "code",
   "execution_count": null,
   "metadata": {},
   "outputs": [],
   "source": [
    "# trials = pickle.load(open(\"/home/dfki/Desktop/Thesis/hyperopt/trial_0initial_100iteration.p\",'rb'))\n",
    "# trial_utils(trials,0,100)"
   ]
  },
  {
   "cell_type": "markdown",
   "metadata": {},
   "source": [
    "# 100 initial 100 iteration"
   ]
  },
  {
   "cell_type": "code",
   "execution_count": null,
   "metadata": {},
   "outputs": [],
   "source": [
    "trials_100 = pickle.load(open(\"/home/dfki/Desktop/Thesis/hyperopt/trial_100initial_100iteration.p\",'rb'))\n",
    "trial_utils(trials_100,100,200)"
   ]
  },
  {
   "cell_type": "code",
   "execution_count": 8,
   "metadata": {},
   "outputs": [
    {
     "name": "stdout",
     "output_type": "stream",
     "text": [
      "100%|██████████| 100/100 [00:00<00:00, 258.63it/s, best loss: 0.0007043068956300005]\n",
      "{'x': 0.026538780974830034}\n",
      "Best score:0.0007043068956300005 \n",
      " best score id:115 \n",
      " Average score[100,200]:12.7968807512244\n",
      "all best scores idices [115]\n",
      "-----------\n"
     ]
    }
   ],
   "source": [
    "best, trial_100_100initial= fmin(objective,\n",
    "    space=space,\n",
    "    algo=tpe.suggest,\n",
    "    max_evals=200,\n",
    "    trials=new_trial,\n",
    "    rstate=np.random.RandomState(10))\n",
    "\n",
    "print(best)\n",
    "trial_utils(trial,100,200)"
   ]
  },
  {
   "cell_type": "markdown",
   "metadata": {},
   "source": [
    "# find the 1 good and 15 bad "
   ]
  },
  {
   "cell_type": "code",
   "execution_count": 40,
   "metadata": {},
   "outputs": [],
   "source": [
    "trial_16 = find_n_initial(new_trial,16,good=1,bad=15)\n",
    "pickle.dump(trial_16, open('/home/dfki/Desktop/Thesis/hyperopt/trial_16_outof100.p', 'wb'))"
   ]
  },
  {
   "cell_type": "code",
   "execution_count": 41,
   "metadata": {},
   "outputs": [
    {
     "name": "stdout",
     "output_type": "stream",
     "text": [
      "Best score:0.004264407779517356 \n",
      " best score id:15 \n",
      " Average score[0,16]:69.86074901495861\n",
      "all best scores idices [15]\n",
      "-----------\n"
     ]
    }
   ],
   "source": [
    "trial_utils(trial_16,0,16)"
   ]
  },
  {
   "cell_type": "code",
   "execution_count": 42,
   "metadata": {},
   "outputs": [
    {
     "name": "stdout",
     "output_type": "stream",
     "text": [
      "100%|██████████| 100/100 [00:00<00:00, 184.08it/s, best loss: 0.004264407779517356]\n",
      "{'x': -0.06530243318221271}\n",
      "Best score:0.004264407779517356 \n",
      " best score id:15 \n",
      " Average score[16,116]:11.307024973597787\n",
      "all best scores idices [15]\n",
      "-----------\n"
     ]
    }
   ],
   "source": [
    "best,trial_100_16initial= fmin(objective,\n",
    "    space=space,\n",
    "    algo=tpe.suggest,\n",
    "    max_evals=116,\n",
    "    trials=trial_16,\n",
    "    rstate=np.random.RandomState(10))\n",
    "\n",
    "print(best)\n",
    "trial_utils(trial_100_16initial,16,116)"
   ]
  },
  {
   "cell_type": "markdown",
   "metadata": {},
   "source": [
    "# find the Best 50 out of 100"
   ]
  },
  {
   "cell_type": "code",
   "execution_count": 24,
   "metadata": {},
   "outputs": [
    {
     "name": "stdout",
     "output_type": "stream",
     "text": [
      "AVG score is 22.23168055147256\n"
     ]
    }
   ],
   "source": [
    "trial_50_BESTBEST_outof100 = find_n_points(new_trial,50,'BESTBEST')\n",
    "# pickle.dump(trial_50_BESTBEST_outof100, open('/home/dfki/Desktop/Thesis/hyperopt/trial_50_BESTBEST_outof100.p', 'wb'))\n"
   ]
  },
  {
   "cell_type": "code",
   "execution_count": 44,
   "metadata": {},
   "outputs": [
    {
     "data": {
      "text/plain": [
       "{'state': 2,\n",
       " 'tid': 15,\n",
       " 'spec': None,\n",
       " 'result': {'loss': 0.004264407779517356, 'status': 'ok'},\n",
       " 'misc': {'tid': 15,\n",
       "  'cmd': ('domain_attachment', 'FMinIter_Domain'),\n",
       "  'workdir': None,\n",
       "  'idxs': {'x': [15]},\n",
       "  'vals': {'x': [-0.06530243318221271]}},\n",
       " 'exp_key': None,\n",
       " 'owner': None,\n",
       " 'version': 0,\n",
       " 'book_time': datetime.datetime(2019, 12, 9, 15, 16, 12, 951000),\n",
       " 'refresh_time': datetime.datetime(2019, 12, 9, 15, 16, 12, 951000)}"
      ]
     },
     "execution_count": 44,
     "metadata": {},
     "output_type": "execute_result"
    }
   ],
   "source": [
    "trial_16.best_trial"
   ]
  },
  {
   "cell_type": "code",
   "execution_count": 26,
   "metadata": {},
   "outputs": [
    {
     "name": "stdout",
     "output_type": "stream",
     "text": [
      "100%|██████████| 100/100 [00:00<00:00, 301.58it/s, best loss: 0.004264407779517356]\n",
      "{'x': -0.06530243318221271}\n",
      "Best score:0.004264407779517356 \n",
      " best score id:66 \n",
      " Average score[50,150]:24.821388452254435\n",
      "all best scores idices [29]\n",
      "-----------\n"
     ]
    }
   ],
   "source": [
    "best,trial_100_50initial_BEST= fmin(objective,\n",
    "    space=space,\n",
    "    algo=tpe.suggest,\n",
    "    max_evals=150,\n",
    "    trials=trial_50_BESTBEST_outof100,\n",
    "    rstate=np.random.RandomState(10))\n",
    "\n",
    "print(best)\n",
    "trial_utils(trial_100_50initial_BEST,50,150)"
   ]
  },
  {
   "cell_type": "markdown",
   "metadata": {},
   "source": [
    "# Find 50 worset"
   ]
  },
  {
   "cell_type": "code",
   "execution_count": 34,
   "metadata": {},
   "outputs": [
    {
     "name": "stdout",
     "output_type": "stream",
     "text": [
      "AVG score is 22.23168055147256\n"
     ]
    }
   ],
   "source": [
    "trial_50_WORSE_outof100 = find_n_points(new_trial,50,'WORSE')"
   ]
  },
  {
   "cell_type": "code",
   "execution_count": 35,
   "metadata": {},
   "outputs": [
    {
     "name": "stdout",
     "output_type": "stream",
     "text": [
      "100%|██████████| 100/100 [00:00<00:00, 265.40it/s, best loss: 0.004264407779517356]\n",
      "{'x': -0.06530243318221271}\n",
      "Best score:0.004264407779517356 \n",
      " best score id:66 \n",
      " Average score[50,150]:38.60838984224944\n",
      "all best scores idices [38]\n",
      "-----------\n"
     ]
    }
   ],
   "source": [
    "best,trial_100_50initial_worse= fmin(objective,\n",
    "    space=space,\n",
    "    algo=tpe.suggest,\n",
    "    max_evals=150,\n",
    "    trials=trial_50_WORSE_outof100,\n",
    "    rstate=np.random.RandomState(10))\n",
    "\n",
    "print(best)\n",
    "trial_utils(trial_100_50initial_worse,50,150)"
   ]
  },
  {
   "cell_type": "code",
   "execution_count": 45,
   "metadata": {},
   "outputs": [
    {
     "data": {
      "text/plain": [
       "{'state': 2,\n",
       " 'tid': 66,\n",
       " 'spec': None,\n",
       " 'result': {'loss': 0.004264407779517356, 'status': 'ok'},\n",
       " 'misc': {'tid': 66,\n",
       "  'cmd': ('domain_attachment', 'FMinIter_Domain'),\n",
       "  'workdir': None,\n",
       "  'idxs': {'x': [66]},\n",
       "  'vals': {'x': [-0.06530243318221271]}},\n",
       " 'exp_key': None,\n",
       " 'owner': None,\n",
       " 'version': 0,\n",
       " 'book_time': datetime.datetime(2019, 12, 9, 15, 16, 12, 951000),\n",
       " 'refresh_time': datetime.datetime(2019, 12, 9, 15, 16, 12, 951000)}"
      ]
     },
     "execution_count": 45,
     "metadata": {},
     "output_type": "execute_result"
    }
   ],
   "source": [
    "trial.best_trial\n"
   ]
  },
  {
   "cell_type": "code",
   "execution_count": null,
   "metadata": {},
   "outputs": [],
   "source": []
  }
 ],
 "metadata": {
  "kernelspec": {
   "display_name": "Python 3",
   "language": "python",
   "name": "python3"
  },
  "language_info": {
   "codemirror_mode": {
    "name": "ipython",
    "version": 3
   },
   "file_extension": ".py",
   "mimetype": "text/x-python",
   "name": "python",
   "nbconvert_exporter": "python",
   "pygments_lexer": "ipython3",
   "version": "3.6.8"
  }
 },
 "nbformat": 4,
 "nbformat_minor": 2
}
