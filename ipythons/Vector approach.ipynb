{
 "cells": [
  {
   "cell_type": "code",
   "execution_count": 1,
   "metadata": {},
   "outputs": [],
   "source": [
    "import sys  \n",
    "sys.path.insert(0, '/home/dfki/Desktop/Thesis/hyperopt')\n",
    "import temp\n",
    "import pickle\n",
    "from matplotlib import pyplot as plt\n",
    "import numpy as np\n",
    "from scipy import stats\n",
    "import random\n",
    "from hyperopt import fmin, tpe, hp, STATUS_OK,Trials,trials_from_docs\n",
    "import seaborn as sns\n",
    "import numpy as np\n",
    "import pandas as pd\n",
    "from sklearn.cluster import KMeans\n",
    "import random\n",
    "import pickle\n",
    "import numpy as np"
   ]
  },
  {
   "cell_type": "code",
   "execution_count": 2,
   "metadata": {},
   "outputs": [],
   "source": [
    "#load trial from openml\n",
    "trial_3 = pickle.load(open(\"/home/dfki/Desktop/Thesis/openml_test/pickel_files/3/trial_3.p\", \"rb\"))\n"
   ]
  },
  {
   "cell_type": "code",
   "execution_count": 3,
   "metadata": {},
   "outputs": [],
   "source": [
    "#load trials from hyperopt history\n",
    "# all_trials = pickle.load(open(\"/home/dfki/Desktop/Thesis/hyperopt/result_openml/mylaptop/3/dima/3/10000it_0in_3.p\", \"rb\"))\n",
    "# trial_3 = temp.remove_zero_trial(all_trials)"
   ]
  },
  {
   "cell_type": "code",
   "execution_count": 4,
   "metadata": {},
   "outputs": [
    {
     "name": "stdout",
     "output_type": "stream",
     "text": [
      "len vector is 21249\n"
     ]
    }
   ],
   "source": [
    "vector_3 = temp.vector_builder(trial_3)\n",
    "X = np.array(vector_3)"
   ]
  },
  {
   "cell_type": "code",
   "execution_count": 5,
   "metadata": {},
   "outputs": [
    {
     "name": "stdout",
     "output_type": "stream",
     "text": [
      "           data_index\n",
      "cluster_1            \n",
      "0               21249\n",
      "---------------------------------------\n",
      "           data_index  cluster_1\n",
      "cluster_2                       \n",
      "0               21189      21189\n",
      "1                  60         60\n",
      "---------------------------------------\n",
      "           data_index  cluster_1  cluster_2\n",
      "cluster_3                                  \n",
      "0               21138      21138      21138\n",
      "1                  60         60         60\n",
      "2                  51         51         51\n",
      "---------------------------------------\n",
      "           data_index  cluster_1  cluster_2  cluster_3\n",
      "cluster_4                                             \n",
      "0               21072      21072      21072      21072\n",
      "1                  60         60         60         60\n",
      "2                  51         51         51         51\n",
      "3                  66         66         66         66\n",
      "---------------------------------------\n",
      "           data_index  cluster_1  cluster_2  cluster_3  cluster_4\n",
      "cluster_5                                                        \n",
      "0               21028      21028      21028      21028      21028\n",
      "1                  60         60         60         60         60\n",
      "2                  51         51         51         51         51\n",
      "3                  66         66         66         66         66\n",
      "4                  44         44         44         44         44\n",
      "---------------------------------------\n",
      "           data_index  cluster_1  cluster_2  cluster_3  cluster_4  cluster_5\n",
      "cluster_6                                                                   \n",
      "0               21027      21027      21027      21027      21027      21027\n",
      "1                  60         60         60         60         60         60\n",
      "2                  51         51         51         51         51         51\n",
      "3                  66         66         66         66         66         66\n",
      "4                  44         44         44         44         44         44\n",
      "5                   1          1          1          1          1          1\n",
      "---------------------------------------\n",
      "           data_index  cluster_1  cluster_2  cluster_3  cluster_4  cluster_5  \\\n",
      "cluster_7                                                                      \n",
      "0               20964      20964      20964      20964      20964      20964   \n",
      "1                  60         60         60         60         60         60   \n",
      "2                  51         51         51         51         51         51   \n",
      "3                  66         66         66         66         66         66   \n",
      "4                  44         44         44         44         44         44   \n",
      "5                   1          1          1          1          1          1   \n",
      "6                  63         63         63         63         63         63   \n",
      "\n",
      "           cluster_6  \n",
      "cluster_7             \n",
      "0              20964  \n",
      "1                 60  \n",
      "2                 51  \n",
      "3                 66  \n",
      "4                 44  \n",
      "5                  1  \n",
      "6                 63  \n",
      "---------------------------------------\n",
      "           data_index  cluster_1  cluster_2  cluster_3  cluster_4  cluster_5  \\\n",
      "cluster_8                                                                      \n",
      "0               20893      20893      20893      20893      20893      20893   \n",
      "1                  60         60         60         60         60         60   \n",
      "2                  51         51         51         51         51         51   \n",
      "3                  66         66         66         66         66         66   \n",
      "4                  44         44         44         44         44         44   \n",
      "5                   1          1          1          1          1          1   \n",
      "6                  63         63         63         63         63         63   \n",
      "7                  71         71         71         71         71         71   \n",
      "\n",
      "           cluster_6  cluster_7  \n",
      "cluster_8                        \n",
      "0              20893      20893  \n",
      "1                 60         60  \n",
      "2                 51         51  \n",
      "3                 66         66  \n",
      "4                 44         44  \n",
      "5                  1          1  \n",
      "6                 63         63  \n",
      "7                 71         71  \n",
      "---------------------------------------\n",
      "           data_index  cluster_1  cluster_2  cluster_3  cluster_4  cluster_5  \\\n",
      "cluster_9                                                                      \n",
      "0               20819      20819      20819      20819      20819      20819   \n",
      "1                  60         60         60         60         60         60   \n",
      "2                  51         51         51         51         51         51   \n",
      "3                  66         66         66         66         66         66   \n",
      "4                  44         44         44         44         44         44   \n",
      "5                   1          1          1          1          1          1   \n",
      "6                  63         63         63         63         63         63   \n",
      "7                  71         71         71         71         71         71   \n",
      "8                  74         74         74         74         74         74   \n",
      "\n",
      "           cluster_6  cluster_7  cluster_8  \n",
      "cluster_9                                   \n",
      "0              20819      20819      20819  \n",
      "1                 60         60         60  \n",
      "2                 51         51         51  \n",
      "3                 66         66         66  \n",
      "4                 44         44         44  \n",
      "5                  1          1          1  \n",
      "6                 63         63         63  \n",
      "7                 71         71         71  \n",
      "8                 74         74         74  \n",
      "---------------------------------------\n"
     ]
    },
    {
     "data": {
      "image/png": "[encoded data removed]",
      "text/plain": [
       "<Figure size 432x432 with 1 Axes>"
      ]
     },
     "metadata": {
      "needs_background": "light"
     },
     "output_type": "display_data"
    }
   ],
   "source": [
    "#find the best K \n",
    "# Run the Kmeans algorithm and get the index of data points clusters\n",
    "sse = []\n",
    "list_k = list(range(1, 10))\n",
    "cluster_map = pd.DataFrame()\n",
    "cluster_map['data_index'] = range(0,X.shape[0])\n",
    "\n",
    "for k in list_k:\n",
    "    km = KMeans(n_clusters=k)\n",
    "    km.fit(X)\n",
    "    sse.append(km.inertia_)\n",
    "    \n",
    "    cluster_map['cluster_{}'.format(k)] = km.labels_\n",
    "    print(cluster_map.groupby('cluster_{}'.format(k)).count())\n",
    "    print(\"---------------------------------------\")\n",
    "\n",
    "# Plot sse against k\n",
    "plt.figure(figsize=(6, 6))\n",
    "plt.plot(list_k, sse, '-o')\n",
    "plt.xlabel(r'Number of clusters *k*')\n",
    "plt.ylabel('Sum of squared distance')\n",
    "plt.grid(True)\n"
   ]
  },
  {
   "cell_type": "code",
   "execution_count": 6,
   "metadata": {},
   "outputs": [
    {
     "name": "stdout",
     "output_type": "stream",
     "text": [
      "153\n"
     ]
    }
   ],
   "source": [
    "def selecet_index_base_kmeans(X,k,min_member):\n",
    "    '''\n",
    "    X: np.array\n",
    "    k: number of k in kmeans\n",
    "    min_member: number of sample should take out of each cluster\n",
    "    '''\n",
    "    kmeans = KMeans(n_clusters=k, random_state=0).fit(X)\n",
    "\n",
    "    cluster_map = pd.DataFrame()\n",
    "    cluster_map['data_index'] = range(0,X.shape[0])\n",
    "    cluster_map['cluster'] = kmeans.labels_\n",
    "\n",
    "    selected_index=[]\n",
    "    for i in range(k):\n",
    "        l = cluster_map[cluster_map.cluster == i].index\n",
    "        if len(l)<=min_member:\n",
    "            selected_index = list(l)+ list(selected_index)\n",
    "        else:\n",
    "            sampling = random.choices(l, k=min_member)\n",
    "            selected_index = list(selected_index) + list(sampling)\n",
    "        l=[]\n",
    "    \n",
    "    return selected_index\n",
    "    \n",
    "selected_index = selecet_index_base_kmeans(X,k=3,min_member=51)  \n",
    "print(len(selected_index))"
   ]
  },
  {
   "cell_type": "code",
   "execution_count": 7,
   "metadata": {},
   "outputs": [
    {
     "name": "stdout",
     "output_type": "stream",
     "text": [
      "153\n"
     ]
    }
   ],
   "source": [
    "trial3_basedkmeasn = temp.sepecialindex_trial_builder(trial_3,selected_index)\n",
    "print(len(trial3_basedkmeasn.trials))"
   ]
  },
  {
   "cell_type": "code",
   "execution_count": 8,
   "metadata": {},
   "outputs": [],
   "source": [
    "#save the result\n",
    "#pickle.dump(trial3_basedkmeasn, open('/home/dfki/Desktop/Thesis/hyperopt/result_openml/mylaptop/3/automatic/new/trial3_basekmeans_k=3_hyperopt.p', 'wb'))"
   ]
  },
  {
   "cell_type": "code",
   "execution_count": null,
   "metadata": {},
   "outputs": [],
   "source": []
  }
 ],
 "metadata": {
  "kernelspec": {
   "display_name": "Python 3",
   "language": "python",
   "name": "python3"
  },
  "language_info": {
   "codemirror_mode": {
    "name": "ipython",
    "version": 3
   },
   "file_extension": ".py",
   "mimetype": "text/x-python",
   "name": "python",
   "nbconvert_exporter": "python",
   "pygments_lexer": "ipython3",
   "version": "3.6.8"
  }
 },
 "nbformat": 4,
 "nbformat_minor": 4
}
