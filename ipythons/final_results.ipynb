{
 "cells": [
  {
   "cell_type": "code",
   "execution_count": 2,
   "metadata": {},
   "outputs": [],
   "source": [
    "import sys  \n",
    "sys.path.insert(0, '/home/dfki/Desktop/Thesis/hyperopt')\n",
    "import temp\n",
    "import pickle\n",
    "from matplotlib import pyplot as plt\n",
    "import numpy as np\n",
    "from scipy import stats\n",
    "import random\n",
    "from hyperopt import fmin, tpe, hp, STATUS_OK,Trials,trials_from_docs\n",
    "import seaborn as sns\n",
    "import numpy as np\n",
    "import pandas as pd\n",
    "import pickle\n",
    "import seaborn as sns"
   ]
  },
  {
   "cell_type": "markdown",
   "metadata": {},
   "source": [
    "# Dataset3  -Special points -best/ worst"
   ]
  },
  {
   "cell_type": "code",
   "execution_count": null,
   "metadata": {},
   "outputs": [],
   "source": [
    "\n",
    "expriment1 = pickle.load(open(\"/home/dfki/Desktop/Thesis/hyperopt/result_openml/final_result/3/special_point/1000_6000_best_3.p\", \"rb\"))\n",
    "temp.expriment_ploter(expriment1,title=\"\") #Special Points Dataset 3 (Best)"
   ]
  },
  {
   "cell_type": "code",
   "execution_count": null,
   "metadata": {},
   "outputs": [],
   "source": [
    "\n",
    "expriment2 = pickle.load(open(\"/home/dfki/Desktop/Thesis/hyperopt/result_openml/final_result/3/special_point/1000_6000_worst_3.p\", \"rb\"))\n",
    "# temp.expriment_ploter(expriment2,title=\"Special Points Dataset 3 (Worst)\")\n",
    "temp.expriment_ploter(expriment2,title=\"\")"
   ]
  },
  {
   "cell_type": "markdown",
   "metadata": {},
   "source": [
    "# Dataset31  -Special points -best/ worst"
   ]
  },
  {
   "cell_type": "code",
   "execution_count": null,
   "metadata": {},
   "outputs": [],
   "source": [
    "expriment3 = pickle.load(open(\"/home/dfki/Desktop/Thesis/hyperopt/result_openml/final_result/31/special_point/1000_6000_best_31.p\", \"rb\"))\n",
    "temp.expriment_ploter(expriment3,title=\"\")#Special points- Best"
   ]
  },
  {
   "cell_type": "code",
   "execution_count": null,
   "metadata": {},
   "outputs": [],
   "source": [
    "expriment4 = pickle.load(open(\"/home/dfki/Desktop/Thesis/hyperopt/result_openml/final_result/31/special_point/1000_6000_worst_31.p\", \"rb\"))\n",
    "temp.expriment_ploter(expriment4,title=\"\")#Special points- Worst"
   ]
  },
  {
   "cell_type": "markdown",
   "metadata": {},
   "source": [
    "## Dataset32- special points"
   ]
  },
  {
   "cell_type": "code",
   "execution_count": null,
   "metadata": {
    "scrolled": false
   },
   "outputs": [],
   "source": [
    "expriment5 = pickle.load(open(\"/home/dfki/Desktop/Thesis/hyperopt/result_openml/final_result/32/special_point/1000_6000_best_32.p\", \"rb\"))\n",
    "temp.expriment_ploter(expriment5,title=\"\")#Special points- Best"
   ]
  },
  {
   "cell_type": "code",
   "execution_count": null,
   "metadata": {},
   "outputs": [],
   "source": [
    "expriment6 = pickle.load(open(\"/home/dfki/Desktop/Thesis/hyperopt/result_openml/final_result/32/special_point/1000_6000_worst_32.p\", \"rb\"))\n",
    "temp.expriment_ploter(expriment6,title=\"\")#Special points- Best"
   ]
  },
  {
   "cell_type": "markdown",
   "metadata": {},
   "source": [
    "## dataset 40509- special points\n"
   ]
  },
  {
   "cell_type": "code",
   "execution_count": null,
   "metadata": {},
   "outputs": [],
   "source": [
    "expriment7 = pickle.load(open(\"/home/dfki/Desktop/Thesis/hyperopt/result_openml/final_result/125923/special_point/1000_6000_best_125923.p\", \"rb\"))\n",
    "temp.expriment_ploter(expriment7,title=\"\")#Special points- Best"
   ]
  },
  {
   "cell_type": "code",
   "execution_count": null,
   "metadata": {},
   "outputs": [],
   "source": [
    "expriment8 = pickle.load(open(\"/home/dfki/Desktop/Thesis/hyperopt/result_openml/final_result/125923/special_point/1000_6000_worst_125923.p\", \"rb\"))\n",
    "temp.expriment_ploter(expriment8,title=\"\")#Special points- Best"
   ]
  },
  {
   "cell_type": "markdown",
   "metadata": {},
   "source": [
    "## Datasets box plot  & count"
   ]
  },
  {
   "cell_type": "code",
   "execution_count": null,
   "metadata": {},
   "outputs": [],
   "source": [
    "fig_size = plt.rcParams[\"figure.figsize\"]\n",
    "fig_size[0] = 8\n",
    "fig_size[1] = 6\n",
    "sns.set(font_scale=1.4, style='whitegrid')"
   ]
  },
  {
   "cell_type": "markdown",
   "metadata": {},
   "source": [
    "# Dataset 32"
   ]
  },
  {
   "cell_type": "code",
   "execution_count": null,
   "metadata": {},
   "outputs": [],
   "source": [
    "df_32 = pickle.load(open(\"/home/dfki/Desktop/Thesis/openml_test/pickel_files/32/final/df_32.p\", \"rb\"))\n",
    "df_32 = df_32.replace(['This_is_None'],[np.nan]) \n",
    "df5_32 = df_32[['accuracy','f_measure','flow_id','classifier','data_preprocessing','feature_preprocessing']]\n",
    "df5_32['DFC'] = df_32['data_preprocessing'] +'+ ' + df_32['feature_preprocessing']+ '+ '+df_32['classifier']\n",
    "df5_32.head()"
   ]
  },
  {
   "cell_type": "code",
   "execution_count": null,
   "metadata": {},
   "outputs": [],
   "source": [
    "df_32.to_csv('df_312.csv', index=True) "
   ]
  },
  {
   "cell_type": "code",
   "execution_count": null,
   "metadata": {},
   "outputs": [],
   "source": [
    "len(set(df_32['accuracy']))"
   ]
  },
  {
   "cell_type": "code",
   "execution_count": null,
   "metadata": {},
   "outputs": [],
   "source": [
    "df_32.iloc[[2,1,416,1000]].isnull().sum(axis=1)"
   ]
  },
  {
   "cell_type": "code",
   "execution_count": null,
   "metadata": {},
   "outputs": [],
   "source": [
    "(1965/8052)*100"
   ]
  },
  {
   "cell_type": "code",
   "execution_count": null,
   "metadata": {},
   "outputs": [],
   "source": [
    "df2868 = df_32[df_32['flow_id'] == 16345]"
   ]
  },
  {
   "cell_type": "code",
   "execution_count": null,
   "metadata": {},
   "outputs": [],
   "source": [
    "df2868[df2868['svc__C'] == 100000000.0].index"
   ]
  },
  {
   "cell_type": "code",
   "execution_count": null,
   "metadata": {},
   "outputs": [],
   "source": [
    "df2868 = df2868.drop(7511)"
   ]
  },
  {
   "cell_type": "code",
   "execution_count": null,
   "metadata": {},
   "outputs": [],
   "source": [
    "for col in [\"svc__C\",'svc__coef0','svc__degree','svc__gamma','svc__kernel','svc__shrinking','svc__tol']:\n",
    "    plt.scatter(df2868[col],df2868['accuracy'])\n",
    "    plt.xlabel(col)\n",
    "    plt.ylabel('acc')\n",
    "    plt.show()"
   ]
  },
  {
   "cell_type": "code",
   "execution_count": null,
   "metadata": {},
   "outputs": [],
   "source": [
    "ax = sns.boxplot(x=\"accuracy\", y=\"DFC\", data=df5_32)"
   ]
  },
  {
   "cell_type": "code",
   "execution_count": null,
   "metadata": {},
   "outputs": [],
   "source": [
    "ax = sns.countplot(y=\"DFC\", data=df5_32)"
   ]
  },
  {
   "cell_type": "code",
   "execution_count": null,
   "metadata": {},
   "outputs": [],
   "source": [
    "df5_32['DFC'].value_counts()"
   ]
  },
  {
   "cell_type": "markdown",
   "metadata": {},
   "source": [
    "# Dataset31"
   ]
  },
  {
   "cell_type": "code",
   "execution_count": null,
   "metadata": {},
   "outputs": [],
   "source": [
    "df_31 = pickle.load(open(\"/home/dfki/Desktop/Thesis/openml_test/pickel_files/31/final/df_31.p\", \"rb\"))\n",
    "df_31 = df_31.replace(['This_is_None'],[np.nan]) \n",
    "df5_31 = df_31[['accuracy','f_measure','flow_id','classifier','data_preprocessing','feature_preprocessing']]\n",
    "df5_31['DFC'] = df_31['data_preprocessing'] +'+ ' + df_31['feature_preprocessing']+ '+ '+df_31['classifier']\n",
    "df5_31.head()"
   ]
  },
  {
   "cell_type": "code",
   "execution_count": null,
   "metadata": {},
   "outputs": [],
   "source": [
    "df_31[df_31['accuracy'] == 0.784]"
   ]
  },
  {
   "cell_type": "code",
   "execution_count": null,
   "metadata": {},
   "outputs": [],
   "source": [
    "len(set(df_31['accuracy']))"
   ]
  },
  {
   "cell_type": "code",
   "execution_count": null,
   "metadata": {},
   "outputs": [],
   "source": [
    "(294/6660)*100"
   ]
  },
  {
   "cell_type": "code",
   "execution_count": null,
   "metadata": {},
   "outputs": [],
   "source": [
    "ax = sns.boxplot(x=\"accuracy\", y=\"DFC\", data=df5_31)"
   ]
  },
  {
   "cell_type": "code",
   "execution_count": null,
   "metadata": {},
   "outputs": [],
   "source": [
    "ax = sns.countplot(y=\"DFC\", data=df5_31)"
   ]
  },
  {
   "cell_type": "code",
   "execution_count": null,
   "metadata": {},
   "outputs": [],
   "source": [
    "df5_31['DFC'].value_counts()"
   ]
  },
  {
   "cell_type": "code",
   "execution_count": null,
   "metadata": {},
   "outputs": [],
   "source": [
    "df5804 = df_31[df_31['flow_id'] == 5804]"
   ]
  },
  {
   "cell_type": "code",
   "execution_count": null,
   "metadata": {
    "scrolled": true
   },
   "outputs": [],
   "source": [
    "for col in ['randomforestclassifier__criterion','randomforestclassifier__max_depth','randomforestclassifier__min_samples_leaf','randomforestclassifier__min_samples_split','randomforestclassifier__min_weight_fraction_leaf','randomforestclassifier__n_estimators','randomforestclassifier__oob_score','pca__iterated_power','pca__n_components','pca__svd_solver','pca__tol','pca__whiten']:\n",
    "    plt.scatter(df5804[col],df5804['accuracy'])\n",
    "    plt.xlabel(col)\n",
    "    plt.ylabel('acc')\n",
    "    plt.show()\n",
    "\n",
    "\n",
    "\n"
   ]
  },
  {
   "cell_type": "code",
   "execution_count": null,
   "metadata": {},
   "outputs": [],
   "source": [
    "df5804[['accuracy','pca__n_components']]"
   ]
  },
  {
   "cell_type": "code",
   "execution_count": null,
   "metadata": {},
   "outputs": [],
   "source": []
  },
  {
   "cell_type": "markdown",
   "metadata": {},
   "source": [
    "# Dataset 3"
   ]
  },
  {
   "cell_type": "code",
   "execution_count": null,
   "metadata": {},
   "outputs": [],
   "source": [
    "df_3 = pickle.load(open(\"/home/dfki/Desktop/Thesis/openml_test/pickel_files/3/final/df_3.p\", \"rb\"))\n",
    "df_3 = df_3.replace(['This_is_None'],[np.nan]) \n",
    "df5_3 = df_3[['accuracy','f_measure','flow_id','classifier','data_preprocessing','feature_preprocessing']]\n",
    "df5_3['DFC'] = df_3['data_preprocessing'] +'+ ' + df_3['feature_preprocessing']+ '+ '+df_3['classifier']\n",
    "df5_3.head()"
   ]
  },
  {
   "cell_type": "code",
   "execution_count": null,
   "metadata": {},
   "outputs": [],
   "source": [
    "ax = sns.boxplot(x=\"accuracy\", y=\"DFC\", data=df5_3)"
   ]
  },
  {
   "cell_type": "code",
   "execution_count": null,
   "metadata": {},
   "outputs": [],
   "source": [
    "ax = sns.countplot(y=\"DFC\", data=df5_3)"
   ]
  },
  {
   "cell_type": "code",
   "execution_count": null,
   "metadata": {},
   "outputs": [],
   "source": [
    "df5_3['DFC'].value_counts()"
   ]
  },
  {
   "cell_type": "code",
   "execution_count": null,
   "metadata": {},
   "outputs": [],
   "source": [
    "len(set(df_3['accuracy']))"
   ]
  },
  {
   "cell_type": "code",
   "execution_count": null,
   "metadata": {},
   "outputs": [],
   "source": [
    "df5_3.shape"
   ]
  },
  {
   "cell_type": "code",
   "execution_count": null,
   "metadata": {},
   "outputs": [],
   "source": [
    "(1118/19666)*100"
   ]
  },
  {
   "cell_type": "markdown",
   "metadata": {},
   "source": [
    "# Dataset 125923"
   ]
  },
  {
   "cell_type": "code",
   "execution_count": null,
   "metadata": {},
   "outputs": [],
   "source": [
    "df_125923 = pickle.load(open(\"/home/dfki/Desktop/Thesis/openml_test/pickel_files/125923/final/df_125923.p\", \"rb\"))\n",
    "df_125923 = df_125923.replace(['This_is_None'],[np.nan]) \n",
    "df5_125923 = df_125923[['accuracy','f_measure','flow_id','classifier','data_preprocessing','feature_preprocessing']]\n",
    "df5_125923['DFC'] = df_125923['data_preprocessing'] +'+ ' + df_125923['feature_preprocessing']+ '+ '+df_125923['classifier']\n",
    "df5_125923.head()"
   ]
  },
  {
   "cell_type": "code",
   "execution_count": null,
   "metadata": {},
   "outputs": [],
   "source": [
    "len(set(df_125923['accuracy']))"
   ]
  },
  {
   "cell_type": "code",
   "execution_count": null,
   "metadata": {},
   "outputs": [],
   "source": [
    "(275/4857)*100"
   ]
  },
  {
   "cell_type": "code",
   "execution_count": null,
   "metadata": {},
   "outputs": [],
   "source": [
    "ax = sns.boxplot(x=\"accuracy\", y=\"DFC\", data=df5_125923)"
   ]
  },
  {
   "cell_type": "code",
   "execution_count": null,
   "metadata": {},
   "outputs": [],
   "source": [
    "ax = sns.countplot(y=\"DFC\", data=df5_125923)"
   ]
  },
  {
   "cell_type": "code",
   "execution_count": null,
   "metadata": {},
   "outputs": [],
   "source": [
    "df5_125923['DFC'].value_counts()"
   ]
  },
  {
   "cell_type": "code",
   "execution_count": null,
   "metadata": {},
   "outputs": [],
   "source": [
    "df5_125923[df5_125923['DFC'] == 'do_noting+ pca+ randomforestclassifier']"
   ]
  },
  {
   "cell_type": "code",
   "execution_count": null,
   "metadata": {},
   "outputs": [],
   "source": [
    "list(np.arange(0,120,20))"
   ]
  },
  {
   "cell_type": "markdown",
   "metadata": {},
   "source": [
    "# Histogram"
   ]
  },
  {
   "cell_type": "code",
   "execution_count": 3,
   "metadata": {},
   "outputs": [
    {
     "data": {
      "image/png": "[encoded data removed]",
      "text/plain": [
       "<Figure size 1080x360 with 1 Axes>"
      ]
     },
     "metadata": {},
     "output_type": "display_data"
    }
   ],
   "source": [
    "data3 = pickle.load(open(\"/home/dfki/Desktop/Thesis/hyperopt/result_openml/final_result/3/histogram/Ex_0_100_percent_3.p\", \"rb\"))\n",
    "temp.experiment_STD(data3)"
   ]
  },
  {
   "cell_type": "code",
   "execution_count": 4,
   "metadata": {},
   "outputs": [
    {
     "data": {
      "image/png": "[encoded data removed]",
      "text/plain": [
       "<Figure size 1080x360 with 1 Axes>"
      ]
     },
     "metadata": {},
     "output_type": "display_data"
    }
   ],
   "source": [
    "data3_2 = pickle.load(open(\"/home/dfki/Desktop/Thesis/hyperopt/result_openml/final_result/3/histogram/Ex_F1_0_100_percent_3.p\", \"rb\"))\n",
    "temp.experiment_STD(data3_2)"
   ]
  },
  {
   "cell_type": "code",
   "execution_count": null,
   "metadata": {},
   "outputs": [],
   "source": []
  }
 ],
 "metadata": {
  "kernelspec": {
   "display_name": "Python 3",
   "language": "python",
   "name": "python3"
  },
  "language_info": {
   "codemirror_mode": {
    "name": "ipython",
    "version": 3
   },
   "file_extension": ".py",
   "mimetype": "text/x-python",
   "name": "python",
   "nbconvert_exporter": "python",
   "pygments_lexer": "ipython3",
   "version": "3.6.9"
  }
 },
 "nbformat": 4,
 "nbformat_minor": 4
}
