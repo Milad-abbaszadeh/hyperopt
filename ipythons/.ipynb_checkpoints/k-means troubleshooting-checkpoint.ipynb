{
 "cells": [
  {
   "cell_type": "code",
   "execution_count": 2,
   "metadata": {},
   "outputs": [],
   "source": [
    "import sys  \n",
    "sys.path.insert(0, '/home/dfki/Desktop/Thesis/hyperopt')\n",
    "import temp\n",
    "import vector\n",
    "import pickle\n",
    "from matplotlib import pyplot as plt\n",
    "import numpy as np\n",
    "from scipy import stats\n",
    "import random\n",
    "from hyperopt import fmin, tpe, hp, STATUS_OK,Trials,trials_from_docs\n",
    "import seaborn as sns\n",
    "import numpy as np\n",
    "import pandas as pd\n",
    "from sklearn.cluster import KMeans,SpectralClustering,k_means\n",
    "import random\n",
    "import pickle\n",
    "import numpy as np\n",
    "import scipy\n",
    "from sklearn.cluster import DBSCAN\n",
    "from sklearn import metrics\n",
    "from sklearn.datasets import make_blobs\n",
    "from sklearn.preprocessing import StandardScaler\n",
    "from scipy.spatial.distance import cdist\n",
    "from sklearn.datasets import make_blobs\n",
    "from sklearn.cluster import KMeans\n",
    "from sklearn.metrics import silhouette_samples, silhouette_score"
   ]
  },
  {
   "cell_type": "code",
   "execution_count": 2,
   "metadata": {},
   "outputs": [
    {
     "name": "stdout",
     "output_type": "stream",
     "text": [
      "(6642, 94)\n"
     ]
    }
   ],
   "source": [
    "df_31 = pickle.load(open(\"/home/dfki/Desktop/Thesis/openml_test/pickel_files/31/df_31.p\", \"rb\"))\n",
    "print(df_31.shape)"
   ]
  },
  {
   "cell_type": "code",
   "execution_count": 3,
   "metadata": {},
   "outputs": [
    {
     "data": {
      "text/html": [
       "<div>\n",
       "<style scoped>\n",
       "    .dataframe tbody tr th:only-of-type {\n",
       "        vertical-align: middle;\n",
       "    }\n",
       "\n",
       "    .dataframe tbody tr th {\n",
       "        vertical-align: top;\n",
       "    }\n",
       "\n",
       "    .dataframe thead th {\n",
       "        text-align: right;\n",
       "    }\n",
       "</style>\n",
       "<table border=\"1\" class=\"dataframe\">\n",
       "  <thead>\n",
       "    <tr style=\"text-align: right;\">\n",
       "      <th></th>\n",
       "      <th>run_id</th>\n",
       "      <th>flow_id</th>\n",
       "      <th>accuracy</th>\n",
       "      <th>f_measure</th>\n",
       "      <th>area_under_roc_curve</th>\n",
       "      <th>average_cost</th>\n",
       "      <th>kappa</th>\n",
       "      <th>kb_relative_information_score</th>\n",
       "      <th>mean_absolute_error</th>\n",
       "      <th>mean_prior_absolute_error</th>\n",
       "      <th>...</th>\n",
       "      <th>mlpclassifier__nesterovs_momentum</th>\n",
       "      <th>mlpclassifier__power_t</th>\n",
       "      <th>mlpclassifier__shuffle</th>\n",
       "      <th>mlpclassifier__solver</th>\n",
       "      <th>mlpclassifier__tol</th>\n",
       "      <th>sgdclassifier__loss</th>\n",
       "      <th>sgdclassifier__penalty</th>\n",
       "      <th>sgdclassifier__alpha</th>\n",
       "      <th>sgdclassifier__max_iter</th>\n",
       "      <th>sgdclassifier__tol</th>\n",
       "    </tr>\n",
       "  </thead>\n",
       "  <tbody>\n",
       "    <tr>\n",
       "      <th>0</th>\n",
       "      <td>3807068</td>\n",
       "      <td>6840</td>\n",
       "      <td>0.7</td>\n",
       "      <td>0.576471</td>\n",
       "      <td>0.500000</td>\n",
       "      <td>0.0</td>\n",
       "      <td>0.0</td>\n",
       "      <td>0.373330</td>\n",
       "      <td>0.420000</td>\n",
       "      <td>0.42016</td>\n",
       "      <td>...</td>\n",
       "      <td>NaN</td>\n",
       "      <td>NaN</td>\n",
       "      <td>NaN</td>\n",
       "      <td>NaN</td>\n",
       "      <td>NaN</td>\n",
       "      <td>NaN</td>\n",
       "      <td>NaN</td>\n",
       "      <td>NaN</td>\n",
       "      <td>NaN</td>\n",
       "      <td>NaN</td>\n",
       "    </tr>\n",
       "    <tr>\n",
       "      <th>1</th>\n",
       "      <td>3809199</td>\n",
       "      <td>6840</td>\n",
       "      <td>0.7</td>\n",
       "      <td>0.576471</td>\n",
       "      <td>0.660781</td>\n",
       "      <td>0.0</td>\n",
       "      <td>0.0</td>\n",
       "      <td>78.757111</td>\n",
       "      <td>0.372358</td>\n",
       "      <td>0.42016</td>\n",
       "      <td>...</td>\n",
       "      <td>NaN</td>\n",
       "      <td>NaN</td>\n",
       "      <td>NaN</td>\n",
       "      <td>NaN</td>\n",
       "      <td>NaN</td>\n",
       "      <td>NaN</td>\n",
       "      <td>NaN</td>\n",
       "      <td>NaN</td>\n",
       "      <td>NaN</td>\n",
       "      <td>NaN</td>\n",
       "    </tr>\n",
       "    <tr>\n",
       "      <th>2</th>\n",
       "      <td>3809243</td>\n",
       "      <td>6840</td>\n",
       "      <td>0.7</td>\n",
       "      <td>0.576471</td>\n",
       "      <td>0.500000</td>\n",
       "      <td>0.0</td>\n",
       "      <td>0.0</td>\n",
       "      <td>0.373330</td>\n",
       "      <td>0.420000</td>\n",
       "      <td>0.42016</td>\n",
       "      <td>...</td>\n",
       "      <td>NaN</td>\n",
       "      <td>NaN</td>\n",
       "      <td>NaN</td>\n",
       "      <td>NaN</td>\n",
       "      <td>NaN</td>\n",
       "      <td>NaN</td>\n",
       "      <td>NaN</td>\n",
       "      <td>NaN</td>\n",
       "      <td>NaN</td>\n",
       "      <td>NaN</td>\n",
       "    </tr>\n",
       "    <tr>\n",
       "      <th>3</th>\n",
       "      <td>3809448</td>\n",
       "      <td>6840</td>\n",
       "      <td>0.7</td>\n",
       "      <td>0.576471</td>\n",
       "      <td>0.500000</td>\n",
       "      <td>0.0</td>\n",
       "      <td>0.0</td>\n",
       "      <td>0.373330</td>\n",
       "      <td>0.420000</td>\n",
       "      <td>0.42016</td>\n",
       "      <td>...</td>\n",
       "      <td>NaN</td>\n",
       "      <td>NaN</td>\n",
       "      <td>NaN</td>\n",
       "      <td>NaN</td>\n",
       "      <td>NaN</td>\n",
       "      <td>NaN</td>\n",
       "      <td>NaN</td>\n",
       "      <td>NaN</td>\n",
       "      <td>NaN</td>\n",
       "      <td>NaN</td>\n",
       "    </tr>\n",
       "    <tr>\n",
       "      <th>4</th>\n",
       "      <td>3811787</td>\n",
       "      <td>6840</td>\n",
       "      <td>0.7</td>\n",
       "      <td>0.576471</td>\n",
       "      <td>0.660781</td>\n",
       "      <td>0.0</td>\n",
       "      <td>0.0</td>\n",
       "      <td>78.757111</td>\n",
       "      <td>0.372358</td>\n",
       "      <td>0.42016</td>\n",
       "      <td>...</td>\n",
       "      <td>NaN</td>\n",
       "      <td>NaN</td>\n",
       "      <td>NaN</td>\n",
       "      <td>NaN</td>\n",
       "      <td>NaN</td>\n",
       "      <td>NaN</td>\n",
       "      <td>NaN</td>\n",
       "      <td>NaN</td>\n",
       "      <td>NaN</td>\n",
       "      <td>NaN</td>\n",
       "    </tr>\n",
       "  </tbody>\n",
       "</table>\n",
       "<p>5 rows × 94 columns</p>\n",
       "</div>"
      ],
      "text/plain": [
       "    run_id  flow_id  accuracy  f_measure  area_under_roc_curve  average_cost  \\\n",
       "0  3807068     6840       0.7   0.576471              0.500000           0.0   \n",
       "1  3809199     6840       0.7   0.576471              0.660781           0.0   \n",
       "2  3809243     6840       0.7   0.576471              0.500000           0.0   \n",
       "3  3809448     6840       0.7   0.576471              0.500000           0.0   \n",
       "4  3811787     6840       0.7   0.576471              0.660781           0.0   \n",
       "\n",
       "   kappa  kb_relative_information_score  mean_absolute_error  \\\n",
       "0    0.0                       0.373330             0.420000   \n",
       "1    0.0                      78.757111             0.372358   \n",
       "2    0.0                       0.373330             0.420000   \n",
       "3    0.0                       0.373330             0.420000   \n",
       "4    0.0                      78.757111             0.372358   \n",
       "\n",
       "   mean_prior_absolute_error  ...  mlpclassifier__nesterovs_momentum  \\\n",
       "0                    0.42016  ...                                NaN   \n",
       "1                    0.42016  ...                                NaN   \n",
       "2                    0.42016  ...                                NaN   \n",
       "3                    0.42016  ...                                NaN   \n",
       "4                    0.42016  ...                                NaN   \n",
       "\n",
       "   mlpclassifier__power_t  mlpclassifier__shuffle  mlpclassifier__solver  \\\n",
       "0                     NaN                     NaN                    NaN   \n",
       "1                     NaN                     NaN                    NaN   \n",
       "2                     NaN                     NaN                    NaN   \n",
       "3                     NaN                     NaN                    NaN   \n",
       "4                     NaN                     NaN                    NaN   \n",
       "\n",
       "   mlpclassifier__tol sgdclassifier__loss sgdclassifier__penalty  \\\n",
       "0                 NaN                 NaN                    NaN   \n",
       "1                 NaN                 NaN                    NaN   \n",
       "2                 NaN                 NaN                    NaN   \n",
       "3                 NaN                 NaN                    NaN   \n",
       "4                 NaN                 NaN                    NaN   \n",
       "\n",
       "  sgdclassifier__alpha  sgdclassifier__max_iter  sgdclassifier__tol  \n",
       "0                  NaN                      NaN                 NaN  \n",
       "1                  NaN                      NaN                 NaN  \n",
       "2                  NaN                      NaN                 NaN  \n",
       "3                  NaN                      NaN                 NaN  \n",
       "4                  NaN                      NaN                 NaN  \n",
       "\n",
       "[5 rows x 94 columns]"
      ]
     },
     "execution_count": 3,
     "metadata": {},
     "output_type": "execute_result"
    }
   ],
   "source": [
    "#replace the facke None with real one \n",
    "df_31 = df_31.replace(['This_is_None'],[np.nan]) \n",
    "df_31.head()"
   ]
  },
  {
   "cell_type": "code",
   "execution_count": 4,
   "metadata": {},
   "outputs": [
    {
     "name": "stdout",
     "output_type": "stream",
     "text": [
      "(6642, 83)\n"
     ]
    },
    {
     "data": {
      "text/html": [
       "<div>\n",
       "<style scoped>\n",
       "    .dataframe tbody tr th:only-of-type {\n",
       "        vertical-align: middle;\n",
       "    }\n",
       "\n",
       "    .dataframe tbody tr th {\n",
       "        vertical-align: top;\n",
       "    }\n",
       "\n",
       "    .dataframe thead th {\n",
       "        text-align: right;\n",
       "    }\n",
       "</style>\n",
       "<table border=\"1\" class=\"dataframe\">\n",
       "  <thead>\n",
       "    <tr style=\"text-align: right;\">\n",
       "      <th></th>\n",
       "      <th>run_id</th>\n",
       "      <th>flow_id</th>\n",
       "      <th>accuracy</th>\n",
       "      <th>f_measure</th>\n",
       "      <th>area_under_roc_curve</th>\n",
       "      <th>average_cost</th>\n",
       "      <th>kappa</th>\n",
       "      <th>kb_relative_information_score</th>\n",
       "      <th>mean_absolute_error</th>\n",
       "      <th>mean_prior_absolute_error</th>\n",
       "      <th>...</th>\n",
       "      <th>mlpclassifier__n_iter_no_change</th>\n",
       "      <th>mlpclassifier__nesterovs_momentum</th>\n",
       "      <th>mlpclassifier__power_t</th>\n",
       "      <th>mlpclassifier__shuffle</th>\n",
       "      <th>mlpclassifier__solver</th>\n",
       "      <th>mlpclassifier__tol</th>\n",
       "      <th>sgdclassifier__loss</th>\n",
       "      <th>sgdclassifier__penalty</th>\n",
       "      <th>sgdclassifier__alpha</th>\n",
       "      <th>sgdclassifier__tol</th>\n",
       "    </tr>\n",
       "  </thead>\n",
       "  <tbody>\n",
       "    <tr>\n",
       "      <th>0</th>\n",
       "      <td>3807068</td>\n",
       "      <td>6840</td>\n",
       "      <td>0.7</td>\n",
       "      <td>0.576471</td>\n",
       "      <td>0.500000</td>\n",
       "      <td>0.0</td>\n",
       "      <td>0.0</td>\n",
       "      <td>0.373330</td>\n",
       "      <td>0.420000</td>\n",
       "      <td>0.42016</td>\n",
       "      <td>...</td>\n",
       "      <td>NaN</td>\n",
       "      <td>NaN</td>\n",
       "      <td>NaN</td>\n",
       "      <td>NaN</td>\n",
       "      <td>NaN</td>\n",
       "      <td>NaN</td>\n",
       "      <td>NaN</td>\n",
       "      <td>NaN</td>\n",
       "      <td>NaN</td>\n",
       "      <td>NaN</td>\n",
       "    </tr>\n",
       "    <tr>\n",
       "      <th>1</th>\n",
       "      <td>3809199</td>\n",
       "      <td>6840</td>\n",
       "      <td>0.7</td>\n",
       "      <td>0.576471</td>\n",
       "      <td>0.660781</td>\n",
       "      <td>0.0</td>\n",
       "      <td>0.0</td>\n",
       "      <td>78.757111</td>\n",
       "      <td>0.372358</td>\n",
       "      <td>0.42016</td>\n",
       "      <td>...</td>\n",
       "      <td>NaN</td>\n",
       "      <td>NaN</td>\n",
       "      <td>NaN</td>\n",
       "      <td>NaN</td>\n",
       "      <td>NaN</td>\n",
       "      <td>NaN</td>\n",
       "      <td>NaN</td>\n",
       "      <td>NaN</td>\n",
       "      <td>NaN</td>\n",
       "      <td>NaN</td>\n",
       "    </tr>\n",
       "    <tr>\n",
       "      <th>2</th>\n",
       "      <td>3809243</td>\n",
       "      <td>6840</td>\n",
       "      <td>0.7</td>\n",
       "      <td>0.576471</td>\n",
       "      <td>0.500000</td>\n",
       "      <td>0.0</td>\n",
       "      <td>0.0</td>\n",
       "      <td>0.373330</td>\n",
       "      <td>0.420000</td>\n",
       "      <td>0.42016</td>\n",
       "      <td>...</td>\n",
       "      <td>NaN</td>\n",
       "      <td>NaN</td>\n",
       "      <td>NaN</td>\n",
       "      <td>NaN</td>\n",
       "      <td>NaN</td>\n",
       "      <td>NaN</td>\n",
       "      <td>NaN</td>\n",
       "      <td>NaN</td>\n",
       "      <td>NaN</td>\n",
       "      <td>NaN</td>\n",
       "    </tr>\n",
       "    <tr>\n",
       "      <th>3</th>\n",
       "      <td>3809448</td>\n",
       "      <td>6840</td>\n",
       "      <td>0.7</td>\n",
       "      <td>0.576471</td>\n",
       "      <td>0.500000</td>\n",
       "      <td>0.0</td>\n",
       "      <td>0.0</td>\n",
       "      <td>0.373330</td>\n",
       "      <td>0.420000</td>\n",
       "      <td>0.42016</td>\n",
       "      <td>...</td>\n",
       "      <td>NaN</td>\n",
       "      <td>NaN</td>\n",
       "      <td>NaN</td>\n",
       "      <td>NaN</td>\n",
       "      <td>NaN</td>\n",
       "      <td>NaN</td>\n",
       "      <td>NaN</td>\n",
       "      <td>NaN</td>\n",
       "      <td>NaN</td>\n",
       "      <td>NaN</td>\n",
       "    </tr>\n",
       "    <tr>\n",
       "      <th>4</th>\n",
       "      <td>3811787</td>\n",
       "      <td>6840</td>\n",
       "      <td>0.7</td>\n",
       "      <td>0.576471</td>\n",
       "      <td>0.660781</td>\n",
       "      <td>0.0</td>\n",
       "      <td>0.0</td>\n",
       "      <td>78.757111</td>\n",
       "      <td>0.372358</td>\n",
       "      <td>0.42016</td>\n",
       "      <td>...</td>\n",
       "      <td>NaN</td>\n",
       "      <td>NaN</td>\n",
       "      <td>NaN</td>\n",
       "      <td>NaN</td>\n",
       "      <td>NaN</td>\n",
       "      <td>NaN</td>\n",
       "      <td>NaN</td>\n",
       "      <td>NaN</td>\n",
       "      <td>NaN</td>\n",
       "      <td>NaN</td>\n",
       "    </tr>\n",
       "  </tbody>\n",
       "</table>\n",
       "<p>5 rows × 83 columns</p>\n",
       "</div>"
      ],
      "text/plain": [
       "    run_id  flow_id  accuracy  f_measure  area_under_roc_curve  average_cost  \\\n",
       "0  3807068     6840       0.7   0.576471              0.500000           0.0   \n",
       "1  3809199     6840       0.7   0.576471              0.660781           0.0   \n",
       "2  3809243     6840       0.7   0.576471              0.500000           0.0   \n",
       "3  3809448     6840       0.7   0.576471              0.500000           0.0   \n",
       "4  3811787     6840       0.7   0.576471              0.660781           0.0   \n",
       "\n",
       "   kappa  kb_relative_information_score  mean_absolute_error  \\\n",
       "0    0.0                       0.373330             0.420000   \n",
       "1    0.0                      78.757111             0.372358   \n",
       "2    0.0                       0.373330             0.420000   \n",
       "3    0.0                       0.373330             0.420000   \n",
       "4    0.0                      78.757111             0.372358   \n",
       "\n",
       "   mean_prior_absolute_error  ...  mlpclassifier__n_iter_no_change  \\\n",
       "0                    0.42016  ...                              NaN   \n",
       "1                    0.42016  ...                              NaN   \n",
       "2                    0.42016  ...                              NaN   \n",
       "3                    0.42016  ...                              NaN   \n",
       "4                    0.42016  ...                              NaN   \n",
       "\n",
       "   mlpclassifier__nesterovs_momentum  mlpclassifier__power_t  \\\n",
       "0                                NaN                     NaN   \n",
       "1                                NaN                     NaN   \n",
       "2                                NaN                     NaN   \n",
       "3                                NaN                     NaN   \n",
       "4                                NaN                     NaN   \n",
       "\n",
       "   mlpclassifier__shuffle  mlpclassifier__solver mlpclassifier__tol  \\\n",
       "0                     NaN                    NaN                NaN   \n",
       "1                     NaN                    NaN                NaN   \n",
       "2                     NaN                    NaN                NaN   \n",
       "3                     NaN                    NaN                NaN   \n",
       "4                     NaN                    NaN                NaN   \n",
       "\n",
       "  sgdclassifier__loss sgdclassifier__penalty  sgdclassifier__alpha  \\\n",
       "0                 NaN                    NaN                   NaN   \n",
       "1                 NaN                    NaN                   NaN   \n",
       "2                 NaN                    NaN                   NaN   \n",
       "3                 NaN                    NaN                   NaN   \n",
       "4                 NaN                    NaN                   NaN   \n",
       "\n",
       "   sgdclassifier__tol  \n",
       "0                 NaN  \n",
       "1                 NaN  \n",
       "2                 NaN  \n",
       "3                 NaN  \n",
       "4                 NaN  \n",
       "\n",
       "[5 rows x 83 columns]"
      ]
     },
     "execution_count": 4,
     "metadata": {},
     "output_type": "execute_result"
    }
   ],
   "source": [
    "#remove complete None columns and impute the None values\n",
    "\n",
    "df_31 = df_31.dropna(axis='columns', how='all')\n",
    "print(df_31.shape) \n",
    "df_31 = df_31.replace(['auto'],[200]) # only several 'auto' in the df_31 wich we need to replace by 200 we claculate with hand \n",
    "\n",
    "df_31.head()"
   ]
  },
  {
   "cell_type": "code",
   "execution_count": 5,
   "metadata": {},
   "outputs": [
    {
     "data": {
      "text/html": [
       "<div>\n",
       "<style scoped>\n",
       "    .dataframe tbody tr th:only-of-type {\n",
       "        vertical-align: middle;\n",
       "    }\n",
       "\n",
       "    .dataframe tbody tr th {\n",
       "        vertical-align: top;\n",
       "    }\n",
       "\n",
       "    .dataframe thead th {\n",
       "        text-align: right;\n",
       "    }\n",
       "</style>\n",
       "<table border=\"1\" class=\"dataframe\">\n",
       "  <thead>\n",
       "    <tr style=\"text-align: right;\">\n",
       "      <th></th>\n",
       "      <th>run_id</th>\n",
       "      <th>flow_id</th>\n",
       "      <th>accuracy</th>\n",
       "      <th>f_measure</th>\n",
       "      <th>area_under_roc_curve</th>\n",
       "      <th>average_cost</th>\n",
       "      <th>kappa</th>\n",
       "      <th>kb_relative_information_score</th>\n",
       "      <th>mean_absolute_error</th>\n",
       "      <th>mean_prior_absolute_error</th>\n",
       "      <th>...</th>\n",
       "      <th>invscaling</th>\n",
       "      <th>False</th>\n",
       "      <th>True</th>\n",
       "      <th>False</th>\n",
       "      <th>True</th>\n",
       "      <th>adam</th>\n",
       "      <th>lbfgs</th>\n",
       "      <th>sgd</th>\n",
       "      <th>perceptron</th>\n",
       "      <th>l2</th>\n",
       "    </tr>\n",
       "  </thead>\n",
       "  <tbody>\n",
       "    <tr>\n",
       "      <th>0</th>\n",
       "      <td>3807068</td>\n",
       "      <td>6840</td>\n",
       "      <td>0.7</td>\n",
       "      <td>0.576471</td>\n",
       "      <td>0.500000</td>\n",
       "      <td>0.0</td>\n",
       "      <td>0.0</td>\n",
       "      <td>0.373330</td>\n",
       "      <td>0.420000</td>\n",
       "      <td>0.42016</td>\n",
       "      <td>...</td>\n",
       "      <td>0</td>\n",
       "      <td>0</td>\n",
       "      <td>0</td>\n",
       "      <td>0</td>\n",
       "      <td>0</td>\n",
       "      <td>0</td>\n",
       "      <td>0</td>\n",
       "      <td>0</td>\n",
       "      <td>0</td>\n",
       "      <td>0</td>\n",
       "    </tr>\n",
       "    <tr>\n",
       "      <th>1</th>\n",
       "      <td>3809199</td>\n",
       "      <td>6840</td>\n",
       "      <td>0.7</td>\n",
       "      <td>0.576471</td>\n",
       "      <td>0.660781</td>\n",
       "      <td>0.0</td>\n",
       "      <td>0.0</td>\n",
       "      <td>78.757111</td>\n",
       "      <td>0.372358</td>\n",
       "      <td>0.42016</td>\n",
       "      <td>...</td>\n",
       "      <td>0</td>\n",
       "      <td>0</td>\n",
       "      <td>0</td>\n",
       "      <td>0</td>\n",
       "      <td>0</td>\n",
       "      <td>0</td>\n",
       "      <td>0</td>\n",
       "      <td>0</td>\n",
       "      <td>0</td>\n",
       "      <td>0</td>\n",
       "    </tr>\n",
       "    <tr>\n",
       "      <th>2</th>\n",
       "      <td>3809243</td>\n",
       "      <td>6840</td>\n",
       "      <td>0.7</td>\n",
       "      <td>0.576471</td>\n",
       "      <td>0.500000</td>\n",
       "      <td>0.0</td>\n",
       "      <td>0.0</td>\n",
       "      <td>0.373330</td>\n",
       "      <td>0.420000</td>\n",
       "      <td>0.42016</td>\n",
       "      <td>...</td>\n",
       "      <td>0</td>\n",
       "      <td>0</td>\n",
       "      <td>0</td>\n",
       "      <td>0</td>\n",
       "      <td>0</td>\n",
       "      <td>0</td>\n",
       "      <td>0</td>\n",
       "      <td>0</td>\n",
       "      <td>0</td>\n",
       "      <td>0</td>\n",
       "    </tr>\n",
       "    <tr>\n",
       "      <th>3</th>\n",
       "      <td>3809448</td>\n",
       "      <td>6840</td>\n",
       "      <td>0.7</td>\n",
       "      <td>0.576471</td>\n",
       "      <td>0.500000</td>\n",
       "      <td>0.0</td>\n",
       "      <td>0.0</td>\n",
       "      <td>0.373330</td>\n",
       "      <td>0.420000</td>\n",
       "      <td>0.42016</td>\n",
       "      <td>...</td>\n",
       "      <td>0</td>\n",
       "      <td>0</td>\n",
       "      <td>0</td>\n",
       "      <td>0</td>\n",
       "      <td>0</td>\n",
       "      <td>0</td>\n",
       "      <td>0</td>\n",
       "      <td>0</td>\n",
       "      <td>0</td>\n",
       "      <td>0</td>\n",
       "    </tr>\n",
       "    <tr>\n",
       "      <th>4</th>\n",
       "      <td>3811787</td>\n",
       "      <td>6840</td>\n",
       "      <td>0.7</td>\n",
       "      <td>0.576471</td>\n",
       "      <td>0.660781</td>\n",
       "      <td>0.0</td>\n",
       "      <td>0.0</td>\n",
       "      <td>78.757111</td>\n",
       "      <td>0.372358</td>\n",
       "      <td>0.42016</td>\n",
       "      <td>...</td>\n",
       "      <td>0</td>\n",
       "      <td>0</td>\n",
       "      <td>0</td>\n",
       "      <td>0</td>\n",
       "      <td>0</td>\n",
       "      <td>0</td>\n",
       "      <td>0</td>\n",
       "      <td>0</td>\n",
       "      <td>0</td>\n",
       "      <td>0</td>\n",
       "    </tr>\n",
       "  </tbody>\n",
       "</table>\n",
       "<p>5 rows × 116 columns</p>\n",
       "</div>"
      ],
      "text/plain": [
       "    run_id  flow_id  accuracy  f_measure  area_under_roc_curve  average_cost  \\\n",
       "0  3807068     6840       0.7   0.576471              0.500000           0.0   \n",
       "1  3809199     6840       0.7   0.576471              0.660781           0.0   \n",
       "2  3809243     6840       0.7   0.576471              0.500000           0.0   \n",
       "3  3809448     6840       0.7   0.576471              0.500000           0.0   \n",
       "4  3811787     6840       0.7   0.576471              0.660781           0.0   \n",
       "\n",
       "   kappa  kb_relative_information_score  mean_absolute_error  \\\n",
       "0    0.0                       0.373330             0.420000   \n",
       "1    0.0                      78.757111             0.372358   \n",
       "2    0.0                       0.373330             0.420000   \n",
       "3    0.0                       0.373330             0.420000   \n",
       "4    0.0                      78.757111             0.372358   \n",
       "\n",
       "   mean_prior_absolute_error  ...  invscaling  False  True  False  True  adam  \\\n",
       "0                    0.42016  ...           0      0     0      0     0     0   \n",
       "1                    0.42016  ...           0      0     0      0     0     0   \n",
       "2                    0.42016  ...           0      0     0      0     0     0   \n",
       "3                    0.42016  ...           0      0     0      0     0     0   \n",
       "4                    0.42016  ...           0      0     0      0     0     0   \n",
       "\n",
       "   lbfgs  sgd  perceptron  l2  \n",
       "0      0    0           0   0  \n",
       "1      0    0           0   0  \n",
       "2      0    0           0   0  \n",
       "3      0    0           0   0  \n",
       "4      0    0           0   0  \n",
       "\n",
       "[5 rows x 116 columns]"
      ]
     },
     "execution_count": 5,
     "metadata": {},
     "output_type": "execute_result"
    }
   ],
   "source": [
    "df = temp.encoder(df_31)\n",
    "df.head()"
   ]
  },
  {
   "cell_type": "code",
   "execution_count": 6,
   "metadata": {},
   "outputs": [],
   "source": [
    "# df_31['DFC'] = df_31['data_preprocessing'] + df_31['feature_preprocessing']+ df_31['classifier']"
   ]
  },
  {
   "cell_type": "code",
   "execution_count": 7,
   "metadata": {},
   "outputs": [
    {
     "name": "stdout",
     "output_type": "stream",
     "text": [
      "0 run_id\n",
      "1 flow_id\n",
      "2 accuracy\n",
      "3 f_measure\n",
      "4 area_under_roc_curve\n",
      "5 average_cost\n",
      "6 kappa\n",
      "7 kb_relative_information_score\n",
      "8 mean_absolute_error\n",
      "9 mean_prior_absolute_error\n",
      "10 prior_entropy\n",
      "11 relative_absolute_error\n",
      "12 root_mean_prior_squared_error\n",
      "13 root_mean_squared_error\n",
      "14 root_relative_squared_error\n",
      "15 decisiontreeclassifier__max_depth\n",
      "16 decisiontreeclassifier__min_samples_leaf\n",
      "17 decisiontreeclassifier__min_samples_split\n",
      "18 VarianceThreshold__threshold\n",
      "19 randomforestclassifier__min_samples_leaf\n",
      "20 randomforestclassifier__min_samples_split\n",
      "21 randomforestclassifier__min_weight_fraction_leaf\n",
      "22 randomforestclassifier__max_features\n",
      "23 randomforestclassifier__n_estimators\n",
      "24 gradientboostingclassifier__learning_rate\n",
      "25 gradientboostingclassifier__max_depth\n",
      "26 gradientboostingclassifier__max_features\n",
      "27 gradientboostingclassifier__min_impurity_decrease\n",
      "28 gradientboostingclassifier__min_samples_leaf\n",
      "29 gradientboostingclassifier__min_samples_split\n",
      "30 gradientboostingclassifier__min_weight_fraction_leaf\n",
      "31 gradientboostingclassifier__n_estimators\n",
      "32 gradientboostingclassifier__n_iter_no_change\n",
      "33 gradientboostingclassifier__subsample\n",
      "34 gradientboostingclassifier__tol\n",
      "35 gradientboostingclassifier__validation_fraction\n",
      "36 bernoullinb__alpha\n",
      "37 fkceigenpro__degree\n",
      "38 fkceigenpro__gamma\n",
      "39 fkceigenpro__n_components\n",
      "40 svc__C\n",
      "41 svc__coef0\n",
      "42 svc__degree\n",
      "43 svc__gamma\n",
      "44 svc__tol\n",
      "45 extratreesclassifier__max_features\n",
      "46 extratreesclassifier__min_samples_leaf\n",
      "47 extratreesclassifier__min_samples_split\n",
      "48 mlpclassifier__alpha\n",
      "49 mlpclassifier__batch_size\n",
      "50 mlpclassifier__beta_1\n",
      "51 mlpclassifier__beta_2\n",
      "52 mlpclassifier__hidden_layer_sizes\n",
      "53 mlpclassifier__learning_rate_init\n",
      "54 mlpclassifier__max_iter\n",
      "55 mlpclassifier__momentum\n",
      "56 mlpclassifier__n_iter_no_change\n",
      "57 mlpclassifier__power_t\n",
      "58 mlpclassifier__tol\n",
      "59 sgdclassifier__alpha\n",
      "60 sgdclassifier__tol\n",
      "61 ColumnTransformer\n",
      "62 SimpleImputer\n",
      "63 bernoullinb\n",
      "64 decisiontreeclassifier\n",
      "65 extratreesclassifier\n",
      "66 fkceigenpro\n",
      "67 gradientboostingclassifier\n",
      "68 mlpclassifier\n",
      "69 randomforestclassifier\n",
      "70 sgdclassifier\n",
      "71 svc\n",
      "72 entropy\n",
      "73 gini\n",
      "74 drop\n",
      "75 passthrough\n",
      "76 VarianceThreshold\n",
      "77 do_noting\n",
      "78 entropy\n",
      "79 gini\n",
      "80 False\n",
      "81 friedman_mse\n",
      "82 mae\n",
      "83 mse\n",
      "84 False\n",
      "85 True\n",
      "86 laplace\n",
      "87 rbf\n",
      "88 linear\n",
      "89 poly\n",
      "90 rbf\n",
      "91 sigmoid\n",
      "92 False\n",
      "93 True\n",
      "94 False\n",
      "95 True\n",
      "96 entropy\n",
      "97 gini\n",
      "98 identity\n",
      "99 logistic\n",
      "100 relu\n",
      "101 tanh\n",
      "102 False\n",
      "103 True\n",
      "104 adaptive\n",
      "105 constant\n",
      "106 invscaling\n",
      "107 False\n",
      "108 True\n",
      "109 False\n",
      "110 True\n",
      "111 adam\n",
      "112 lbfgs\n",
      "113 sgd\n",
      "114 perceptron\n",
      "115 l2\n"
     ]
    }
   ],
   "source": [
    "for i in range(len(df.columns)):\n",
    "    print(i,df.columns[i])"
   ]
  },
  {
   "cell_type": "code",
   "execution_count": 8,
   "metadata": {},
   "outputs": [],
   "source": [
    "df.to_csv('df_312.csv', index=True) "
   ]
  },
  {
   "cell_type": "code",
   "execution_count": 9,
   "metadata": {},
   "outputs": [
    {
     "name": "stdout",
     "output_type": "stream",
     "text": [
      "[5608, 5034, 2793, 1719, 3395, 2689, 5205, 2014, 3165, 3874, 6031, 3352, 1871, 5020, 4107, 1663, 6042, 6527, 5381, 5992, 2060, 4847, 5970, 4543, 3135, 668, 2883, 4057, 6064, 6420, 3168, 5747, 1730, 5346, 3644, 93, 4780, 2648, 5478, 4437, 7, 3278, 5762, 1620, 2160, 5781, 1269, 3769, 1584, 6426]\n"
     ]
    }
   ],
   "source": [
    "random.seed(0)\n",
    "sampling = random.choices(range(6642), k=50)\n",
    "print(sampling)"
   ]
  },
  {
   "cell_type": "markdown",
   "metadata": {},
   "source": [
    "## without evaluation features "
   ]
  },
  {
   "cell_type": "code",
   "execution_count": 10,
   "metadata": {},
   "outputs": [
    {
     "data": {
      "text/plain": [
       "(6642, 101)"
      ]
     },
     "execution_count": 10,
     "metadata": {},
     "output_type": "execute_result"
    }
   ],
   "source": [
    "df101 = df.iloc[:,15:]\n",
    "# df69_50= df69.iloc[sampling]\n",
    "# X = df69_50.values\n",
    "X = df101.values\n",
    "X.shape"
   ]
  },
  {
   "cell_type": "markdown",
   "metadata": {},
   "source": [
    "## with evaluation features"
   ]
  },
  {
   "cell_type": "code",
   "execution_count": null,
   "metadata": {},
   "outputs": [],
   "source": [
    "#X = df_31.values\n",
    "\n",
    "#X = df_31.iloc[sampling].values\n",
    "#X.shape"
   ]
  },
  {
   "cell_type": "code",
   "execution_count": 11,
   "metadata": {
    "scrolled": false
   },
   "outputs": [
    {
     "name": "stdout",
     "output_type": "stream",
     "text": [
      "(6642, 101)\n",
      "Cluster_number\n",
      "0    6592\n",
      "1      50\n",
      "Name: cluster_2, dtype: int64\n",
      "---------------------------------------\n",
      "Cluster_number\n",
      "0    5327\n",
      "1      50\n",
      "2    1265\n",
      "Name: cluster_3, dtype: int64\n",
      "---------------------------------------\n",
      "Cluster_number\n",
      "0    5277\n",
      "1      50\n",
      "2    1265\n",
      "3      50\n",
      "Name: cluster_4, dtype: int64\n",
      "---------------------------------------\n",
      "Cluster_number\n",
      "0    5277\n",
      "1      50\n",
      "2    1211\n",
      "3      50\n",
      "4      54\n",
      "Name: cluster_5, dtype: int64\n",
      "---------------------------------------\n",
      "Cluster_number\n",
      "0    5276\n",
      "1      50\n",
      "2    1211\n",
      "3      50\n",
      "4      54\n",
      "5       1\n",
      "Name: cluster_6, dtype: int64\n",
      "---------------------------------------\n",
      "Cluster_number\n",
      "0    5276\n",
      "1      50\n",
      "2    1169\n",
      "3      50\n",
      "4      54\n",
      "5       1\n",
      "6      42\n",
      "Name: cluster_7, dtype: int64\n",
      "---------------------------------------\n",
      "Cluster_number\n",
      "0    5276\n",
      "1      50\n",
      "2    1113\n",
      "3      50\n",
      "4      54\n",
      "5       1\n",
      "6      42\n",
      "7      56\n",
      "Name: cluster_8, dtype: int64\n",
      "---------------------------------------\n",
      "Cluster_number\n",
      "0    2955\n",
      "1      50\n",
      "2    1113\n",
      "3      50\n",
      "4      54\n",
      "5       1\n",
      "6      42\n",
      "7      56\n",
      "8    2321\n",
      "Name: cluster_9, dtype: int64\n",
      "---------------------------------------\n",
      "Cluster_number\n",
      "0    2955\n",
      "1      50\n",
      "2    1045\n",
      "3      50\n",
      "4      54\n",
      "5       1\n",
      "6      42\n",
      "7      56\n",
      "8    2321\n",
      "9      68\n",
      "Name: cluster_10, dtype: int64\n",
      "---------------------------------------\n",
      "Cluster_number\n",
      "0     2877\n",
      "1       50\n",
      "2       68\n",
      "3       50\n",
      "4       54\n",
      "5        1\n",
      "6       42\n",
      "7       56\n",
      "8     1045\n",
      "9     2149\n",
      "10     250\n",
      "Name: cluster_11, dtype: int64\n",
      "---------------------------------------\n",
      "Cluster_number\n",
      "0     2137\n",
      "1       50\n",
      "2     1045\n",
      "3       50\n",
      "4       54\n",
      "5        1\n",
      "6       42\n",
      "7       56\n",
      "8     2872\n",
      "9       68\n",
      "10     259\n",
      "11       8\n",
      "Name: cluster_12, dtype: int64\n",
      "---------------------------------------\n",
      "Cluster_number\n",
      "0     2868\n",
      "1       50\n",
      "2       68\n",
      "3       50\n",
      "4       54\n",
      "5        1\n",
      "6       42\n",
      "7       56\n",
      "8     1045\n",
      "9     2002\n",
      "10     159\n",
      "11       8\n",
      "12     239\n",
      "Name: cluster_13, dtype: int64\n",
      "---------------------------------------\n",
      "Cluster_number\n",
      "0     2868\n",
      "1       50\n",
      "2       68\n",
      "3       50\n",
      "4       54\n",
      "5        1\n",
      "6       42\n",
      "7       56\n",
      "8      956\n",
      "9     2002\n",
      "10     159\n",
      "11       8\n",
      "12     239\n",
      "13      89\n",
      "Name: cluster_14, dtype: int64\n",
      "---------------------------------------\n",
      "Cluster_number\n",
      "0     1947\n",
      "1       50\n",
      "2      956\n",
      "3       50\n",
      "4       54\n",
      "5        1\n",
      "6       42\n",
      "7       56\n",
      "8     2868\n",
      "9       68\n",
      "10     130\n",
      "11       8\n",
      "12     232\n",
      "13      89\n",
      "14      91\n",
      "Name: cluster_15, dtype: int64\n",
      "---------------------------------------\n",
      "Cluster_number\n",
      "0     1893\n",
      "1       50\n",
      "2      956\n",
      "3       50\n",
      "4       54\n",
      "5        1\n",
      "6       42\n",
      "7       56\n",
      "8     2868\n",
      "9       68\n",
      "10     101\n",
      "11       8\n",
      "12     124\n",
      "13      65\n",
      "14      89\n",
      "15     217\n",
      "Name: cluster_16, dtype: int64\n",
      "---------------------------------------\n",
      "Cluster_number\n",
      "0      231\n",
      "1       50\n",
      "2      956\n",
      "3       50\n",
      "4       54\n",
      "5        1\n",
      "6       42\n",
      "7       56\n",
      "8     2868\n",
      "9       68\n",
      "10      75\n",
      "11    1784\n",
      "12       8\n",
      "13      90\n",
      "14      89\n",
      "15      84\n",
      "16     136\n",
      "Name: cluster_17, dtype: int64\n",
      "---------------------------------------\n",
      "Cluster_number\n",
      "0     1739\n",
      "1       50\n",
      "2      690\n",
      "3       50\n",
      "4       54\n",
      "5        1\n",
      "6       42\n",
      "7       56\n",
      "8     2868\n",
      "9       68\n",
      "10      87\n",
      "11       8\n",
      "12     129\n",
      "13      89\n",
      "14      87\n",
      "15     261\n",
      "16      97\n",
      "17     266\n",
      "Name: cluster_18, dtype: int64\n",
      "---------------------------------------\n",
      "Cluster_number\n",
      "0     1739\n",
      "1       50\n",
      "2      690\n",
      "3       50\n",
      "4       54\n",
      "5        1\n",
      "6       42\n",
      "7       56\n",
      "8     2868\n",
      "9       68\n",
      "10      75\n",
      "11       8\n",
      "12     129\n",
      "13      89\n",
      "14      53\n",
      "15     261\n",
      "16      97\n",
      "17     266\n",
      "18      46\n",
      "Name: cluster_19, dtype: int64\n",
      "---------------------------------------\n"
     ]
    },
    {
     "data": {
      "image/png": "[encoded data removed]",
      "text/plain": [
       "<Figure size 432x432 with 1 Axes>"
      ]
     },
     "metadata": {
      "needs_background": "light"
     },
     "output_type": "display_data"
    }
   ],
   "source": [
    "#find the best K    \n",
    "SSE,CENTER,CLUSTER_MAP  = temp.find_best_k(X,20)"
   ]
  },
  {
   "cell_type": "markdown",
   "metadata": {},
   "source": [
    "#### SSE\n",
    "I have implimented the function calculate_SSE myself to check how sse claculated and the result are the same."
   ]
  },
  {
   "cell_type": "code",
   "execution_count": 12,
   "metadata": {
    "scrolled": false
   },
   "outputs": [
    {
     "data": {
      "image/png": "[encoded data removed]",
      "text/plain": [
       "<Figure size 432x432 with 1 Axes>"
      ]
     },
     "metadata": {
      "needs_background": "light"
     },
     "output_type": "display_data"
    }
   ],
   "source": [
    "plt.figure(figsize=(6, 6))\n",
    "plt.plot(range(2,20), np.log(SSE), '-o')\n",
    "plt.xlabel('Number of clusters *k*')\n",
    "plt.ylabel('Sum of squared distance')\n",
    "plt.grid(True)\n"
   ]
  },
  {
   "cell_type": "code",
   "execution_count": 12,
   "metadata": {},
   "outputs": [],
   "source": [
    "def calculate_SSE(X,centers,cluster_map,maxk):\n",
    "    for k in range(2,maxk):\n",
    "        sum_dist = []\n",
    "        for j in range(k):\n",
    "            l = np.where([cluster_map['cluster_{}'.format(k)] == j])[1]\n",
    "            for i in l:\n",
    "                dist = ((X[i] - centers[k][j])**2).sum()\n",
    "                sum_dist.append(dist)\n",
    "        sse = np.array(sum_dist).sum()\n",
    "        print(\"k={}, sse={}\".format(k,sse))"
   ]
  },
  {
   "cell_type": "code",
   "execution_count": 13,
   "metadata": {},
   "outputs": [
    {
     "name": "stdout",
     "output_type": "stream",
     "text": [
      "k=2, sse=1.8822551669900463e+20\n",
      "k=3, sse=1.7930157011808416e+19\n",
      "k=4, sse=5.2688525250556e+17\n",
      "k=5, sse=1.4058774929040214e+16\n",
      "k=6, sse=4065853312751057.5\n",
      "k=7, sse=55645403640552.61\n",
      "k=8, sse=3071862400275.7617\n",
      "k=9, sse=734219543424.4525\n",
      "k=10, sse=107803283370.14804\n",
      "k=11, sse=55072853789.40387\n",
      "k=12, sse=30939688578.9088\n",
      "k=13, sse=19205176196.543507\n",
      "k=14, sse=11227374773.238956\n",
      "k=15, sse=7732823943.507832\n",
      "k=16, sse=5960032510.853987\n",
      "k=17, sse=5076494847.229318\n",
      "k=18, sse=4202715603.925137\n",
      "k=19, sse=3542457417.797501\n"
     ]
    }
   ],
   "source": [
    "calculate_SSE(X,CENTER,CLUSTER_MAP,20)"
   ]
  },
  {
   "cell_type": "code",
   "execution_count": null,
   "metadata": {},
   "outputs": [],
   "source": [
    "def calculate_SSE_for_each_cluster(X,centers,cluster_map,k):\n",
    "\n",
    "    sum_dist = []\n",
    "    for j in range(k):\n",
    "        l = np.where([cluster_map['cluster_{}'.format(k)] == j])[1]\n",
    "        for i in l:\n",
    "            dist = ((X[i] - centers[k][j])**2).sum()\n",
    "            sum_dist.append(dist)\n",
    "        print('sse for cluster {}: {}'.format(j,np.array(sum_dist).sum()))\n",
    "    sse = np.array(sum_dist).sum()\n",
    "    \n",
    "    print(\"k={}, sse={}\".format(k,sse))"
   ]
  },
  {
   "cell_type": "code",
   "execution_count": null,
   "metadata": {},
   "outputs": [],
   "source": [
    "calculate_SSE_for_each_cluster(X,CENTER,CLUSTER_MAP,10)"
   ]
  },
  {
   "cell_type": "code",
   "execution_count": null,
   "metadata": {},
   "outputs": [],
   "source": [
    "import pickle\n",
    "experiment5 = pickle.load(open(\"/home/dfki/Desktop/Thesis/hyperopt/result_openml/mylaptop/31/automatic/new/cluster/random_percentage.p\", \"rb\"))\n",
    "temp.expriment_ploter(experiment5,'random_percentage')"
   ]
  },
  {
   "cell_type": "markdown",
   "metadata": {},
   "source": [
    "# insight to each cluster"
   ]
  },
  {
   "cell_type": "code",
   "execution_count": null,
   "metadata": {},
   "outputs": [],
   "source": [
    "def cluter_report(X,centers,cluster_map,maxk):\n",
    "    for k in range(2,maxk):\n",
    "        avg_acc =[]\n",
    "        avg_f1 = []\n",
    "        for j in range(k):\n",
    "            l = np.where([cluster_map['cluster_{}'.format(k)] == j])[1]\n",
    "\n",
    "\n",
    "#             print(\"k={}, cluster={},len={}, DFC={} \".format( k,j,len(l),set(df_31['DFC'][l])))\n",
    "            print(\"k={}, cluster={},len={} \".format( k,j,len(l)))\n",
    "\n",
    "            print(\"Data preprocessing:{}, Feature preprosser:{}, Classifier:{}\".format(set(df_31['data_preprocessing'][l]),set(df_31['feature_preprocessing'][l]),set(df_31['classifier'][l])))\n",
    "\n",
    "            print('max acc in cluster {} --- Min acc in cluster {}  ---- Mean acc{}'.format(df_31['accuracy'][l].max(),df_31['accuracy'][l].min(),df_31['accuracy'][l].mean()))\n",
    "            print('------------------------------------')\n",
    "        print(\"-------------------------------------------------------\")"
   ]
  },
  {
   "cell_type": "code",
   "execution_count": 13,
   "metadata": {
    "scrolled": false
   },
   "outputs": [
    {
     "name": "stdout",
     "output_type": "stream",
     "text": [
      "k=2, cluster=0,len=6592 \n",
      "Data preprocessing:{'SimpleImputer', 'ColumnTransformer'}, Feature preprosser:{'VarianceThreshold', 'do_noting'}, Classifier:{'bernoullinb', 'decisiontreeclassifier', 'sgdclassifier', 'randomforestclassifier', 'svc', 'gradientboostingclassifier', 'extratreesclassifier', 'mlpclassifier', 'fkceigenpro'}\n",
      "max acc in cluster 0.7809999999999999 --- Min acc in cluster 0.24100000000000002  ---- Mean acc0.7187190533980583\n",
      "------------------------------------\n",
      "k=2, cluster=1,len=50 \n",
      "Data preprocessing:{'SimpleImputer'}, Feature preprosser:{'do_noting'}, Classifier:{'fkceigenpro'}\n",
      "max acc in cluster 0.779 --- Min acc in cluster 0.7559999999999999  ---- Mean acc0.7694799999999999\n",
      "------------------------------------\n",
      "-------------------------------------------------------\n",
      "k=3, cluster=0,len=5327 \n",
      "Data preprocessing:{'SimpleImputer', 'ColumnTransformer'}, Feature preprosser:{'VarianceThreshold', 'do_noting'}, Classifier:{'bernoullinb', 'decisiontreeclassifier', 'sgdclassifier', 'randomforestclassifier', 'svc', 'gradientboostingclassifier', 'extratreesclassifier', 'mlpclassifier', 'fkceigenpro'}\n",
      "max acc in cluster 0.7809999999999999 --- Min acc in cluster 0.24100000000000002  ---- Mean acc0.7072400976159189\n",
      "------------------------------------\n",
      "k=3, cluster=1,len=50 \n",
      "Data preprocessing:{'SimpleImputer'}, Feature preprosser:{'do_noting'}, Classifier:{'fkceigenpro'}\n",
      "max acc in cluster 0.779 --- Min acc in cluster 0.7559999999999999  ---- Mean acc0.7694799999999999\n",
      "------------------------------------\n",
      "k=3, cluster=2,len=1265 \n",
      "Data preprocessing:{'SimpleImputer'}, Feature preprosser:{'do_noting'}, Classifier:{'fkceigenpro'}\n",
      "max acc in cluster 0.78 --- Min acc in cluster 0.755  ---- Mean acc0.7670577075098814\n",
      "------------------------------------\n",
      "-------------------------------------------------------\n",
      "k=4, cluster=0,len=5277 \n",
      "Data preprocessing:{'SimpleImputer', 'ColumnTransformer'}, Feature preprosser:{'VarianceThreshold', 'do_noting'}, Classifier:{'bernoullinb', 'decisiontreeclassifier', 'sgdclassifier', 'randomforestclassifier', 'svc', 'gradientboostingclassifier', 'extratreesclassifier', 'mlpclassifier'}\n",
      "max acc in cluster 0.78 --- Min acc in cluster 0.24100000000000002  ---- Mean acc0.7066901648664013\n",
      "------------------------------------\n",
      "k=4, cluster=1,len=50 \n",
      "Data preprocessing:{'SimpleImputer'}, Feature preprosser:{'do_noting'}, Classifier:{'fkceigenpro'}\n",
      "max acc in cluster 0.779 --- Min acc in cluster 0.7559999999999999  ---- Mean acc0.7694799999999999\n",
      "------------------------------------\n",
      "k=4, cluster=2,len=1265 \n",
      "Data preprocessing:{'SimpleImputer'}, Feature preprosser:{'do_noting'}, Classifier:{'fkceigenpro'}\n",
      "max acc in cluster 0.78 --- Min acc in cluster 0.755  ---- Mean acc0.7670577075098814\n",
      "------------------------------------\n",
      "k=4, cluster=3,len=50 \n",
      "Data preprocessing:{'SimpleImputer'}, Feature preprosser:{'do_noting'}, Classifier:{'fkceigenpro'}\n",
      "max acc in cluster 0.7809999999999999 --- Min acc in cluster 0.755  ---- Mean acc0.7652800000000002\n",
      "------------------------------------\n",
      "-------------------------------------------------------\n",
      "k=5, cluster=0,len=5277 \n",
      "Data preprocessing:{'SimpleImputer', 'ColumnTransformer'}, Feature preprosser:{'VarianceThreshold', 'do_noting'}, Classifier:{'bernoullinb', 'decisiontreeclassifier', 'sgdclassifier', 'randomforestclassifier', 'svc', 'gradientboostingclassifier', 'extratreesclassifier', 'mlpclassifier'}\n",
      "max acc in cluster 0.78 --- Min acc in cluster 0.24100000000000002  ---- Mean acc0.7066901648664013\n",
      "------------------------------------\n",
      "k=5, cluster=1,len=50 \n",
      "Data preprocessing:{'SimpleImputer'}, Feature preprosser:{'do_noting'}, Classifier:{'fkceigenpro'}\n",
      "max acc in cluster 0.779 --- Min acc in cluster 0.7559999999999999  ---- Mean acc0.7694799999999999\n",
      "------------------------------------\n",
      "k=5, cluster=2,len=1211 \n",
      "Data preprocessing:{'SimpleImputer'}, Feature preprosser:{'do_noting'}, Classifier:{'fkceigenpro'}\n",
      "max acc in cluster 0.78 --- Min acc in cluster 0.755  ---- Mean acc0.7670165152766308\n",
      "------------------------------------\n",
      "k=5, cluster=3,len=50 \n",
      "Data preprocessing:{'SimpleImputer'}, Feature preprosser:{'do_noting'}, Classifier:{'fkceigenpro'}\n",
      "max acc in cluster 0.7809999999999999 --- Min acc in cluster 0.755  ---- Mean acc0.7652800000000002\n",
      "------------------------------------\n",
      "k=5, cluster=4,len=54 \n",
      "Data preprocessing:{'SimpleImputer'}, Feature preprosser:{'do_noting'}, Classifier:{'fkceigenpro'}\n",
      "max acc in cluster 0.779 --- Min acc in cluster 0.755  ---- Mean acc0.7679814814814816\n",
      "------------------------------------\n",
      "-------------------------------------------------------\n",
      "k=6, cluster=0,len=5276 \n",
      "Data preprocessing:{'SimpleImputer', 'ColumnTransformer'}, Feature preprosser:{'VarianceThreshold', 'do_noting'}, Classifier:{'bernoullinb', 'decisiontreeclassifier', 'sgdclassifier', 'randomforestclassifier', 'svc', 'gradientboostingclassifier', 'extratreesclassifier', 'mlpclassifier'}\n",
      "max acc in cluster 0.78 --- Min acc in cluster 0.24100000000000002  ---- Mean acc0.7066800606520092\n",
      "------------------------------------\n",
      "k=6, cluster=1,len=50 \n",
      "Data preprocessing:{'SimpleImputer'}, Feature preprosser:{'do_noting'}, Classifier:{'fkceigenpro'}\n",
      "max acc in cluster 0.779 --- Min acc in cluster 0.7559999999999999  ---- Mean acc0.7694799999999999\n",
      "------------------------------------\n",
      "k=6, cluster=2,len=1211 \n",
      "Data preprocessing:{'SimpleImputer'}, Feature preprosser:{'do_noting'}, Classifier:{'fkceigenpro'}\n",
      "max acc in cluster 0.78 --- Min acc in cluster 0.755  ---- Mean acc0.7670165152766308\n",
      "------------------------------------\n",
      "k=6, cluster=3,len=50 \n",
      "Data preprocessing:{'SimpleImputer'}, Feature preprosser:{'do_noting'}, Classifier:{'fkceigenpro'}\n",
      "max acc in cluster 0.7809999999999999 --- Min acc in cluster 0.755  ---- Mean acc0.7652800000000002\n",
      "------------------------------------\n",
      "k=6, cluster=4,len=54 \n",
      "Data preprocessing:{'SimpleImputer'}, Feature preprosser:{'do_noting'}, Classifier:{'fkceigenpro'}\n",
      "max acc in cluster 0.779 --- Min acc in cluster 0.755  ---- Mean acc0.7679814814814816\n",
      "------------------------------------\n",
      "k=6, cluster=5,len=1 \n",
      "Data preprocessing:{'ColumnTransformer'}, Feature preprosser:{'do_noting'}, Classifier:{'svc'}\n",
      "max acc in cluster 0.76 --- Min acc in cluster 0.76  ---- Mean acc0.76\n",
      "------------------------------------\n",
      "-------------------------------------------------------\n",
      "k=7, cluster=0,len=5276 \n",
      "Data preprocessing:{'SimpleImputer', 'ColumnTransformer'}, Feature preprosser:{'VarianceThreshold', 'do_noting'}, Classifier:{'bernoullinb', 'decisiontreeclassifier', 'sgdclassifier', 'randomforestclassifier', 'svc', 'gradientboostingclassifier', 'extratreesclassifier', 'mlpclassifier'}\n",
      "max acc in cluster 0.78 --- Min acc in cluster 0.24100000000000002  ---- Mean acc0.7066800606520092\n",
      "------------------------------------\n",
      "k=7, cluster=1,len=50 \n",
      "Data preprocessing:{'SimpleImputer'}, Feature preprosser:{'do_noting'}, Classifier:{'fkceigenpro'}\n",
      "max acc in cluster 0.779 --- Min acc in cluster 0.7559999999999999  ---- Mean acc0.7694799999999999\n",
      "------------------------------------\n",
      "k=7, cluster=2,len=1169 \n",
      "Data preprocessing:{'SimpleImputer'}, Feature preprosser:{'do_noting'}, Classifier:{'fkceigenpro'}\n",
      "max acc in cluster 0.78 --- Min acc in cluster 0.755  ---- Mean acc0.7671411462788709\n",
      "------------------------------------\n",
      "k=7, cluster=3,len=50 \n",
      "Data preprocessing:{'SimpleImputer'}, Feature preprosser:{'do_noting'}, Classifier:{'fkceigenpro'}\n",
      "max acc in cluster 0.7809999999999999 --- Min acc in cluster 0.755  ---- Mean acc0.7652800000000002\n",
      "------------------------------------\n",
      "k=7, cluster=4,len=54 \n",
      "Data preprocessing:{'SimpleImputer'}, Feature preprosser:{'do_noting'}, Classifier:{'fkceigenpro'}\n",
      "max acc in cluster 0.779 --- Min acc in cluster 0.755  ---- Mean acc0.7679814814814816\n",
      "------------------------------------\n",
      "k=7, cluster=5,len=1 \n",
      "Data preprocessing:{'ColumnTransformer'}, Feature preprosser:{'do_noting'}, Classifier:{'svc'}\n",
      "max acc in cluster 0.76 --- Min acc in cluster 0.76  ---- Mean acc0.76\n",
      "------------------------------------\n",
      "k=7, cluster=6,len=42 \n",
      "Data preprocessing:{'SimpleImputer'}, Feature preprosser:{'do_noting'}, Classifier:{'fkceigenpro'}\n",
      "max acc in cluster 0.778 --- Min acc in cluster 0.755  ---- Mean acc0.7635476190476191\n",
      "------------------------------------\n",
      "-------------------------------------------------------\n",
      "k=8, cluster=0,len=5276 \n",
      "Data preprocessing:{'SimpleImputer', 'ColumnTransformer'}, Feature preprosser:{'VarianceThreshold', 'do_noting'}, Classifier:{'bernoullinb', 'decisiontreeclassifier', 'sgdclassifier', 'randomforestclassifier', 'svc', 'gradientboostingclassifier', 'extratreesclassifier', 'mlpclassifier'}\n"
     ]
    },
    {
     "name": "stdout",
     "output_type": "stream",
     "text": [
      "max acc in cluster 0.78 --- Min acc in cluster 0.24100000000000002  ---- Mean acc0.7066800606520092\n",
      "------------------------------------\n",
      "k=8, cluster=1,len=50 \n",
      "Data preprocessing:{'SimpleImputer'}, Feature preprosser:{'do_noting'}, Classifier:{'fkceigenpro'}\n",
      "max acc in cluster 0.779 --- Min acc in cluster 0.7559999999999999  ---- Mean acc0.7694799999999999\n",
      "------------------------------------\n",
      "k=8, cluster=2,len=1113 \n",
      "Data preprocessing:{'SimpleImputer'}, Feature preprosser:{'do_noting'}, Classifier:{'fkceigenpro'}\n",
      "max acc in cluster 0.78 --- Min acc in cluster 0.755  ---- Mean acc0.7672165318957772\n",
      "------------------------------------\n",
      "k=8, cluster=3,len=50 \n",
      "Data preprocessing:{'SimpleImputer'}, Feature preprosser:{'do_noting'}, Classifier:{'fkceigenpro'}\n",
      "max acc in cluster 0.7809999999999999 --- Min acc in cluster 0.755  ---- Mean acc0.7652800000000002\n",
      "------------------------------------\n",
      "k=8, cluster=4,len=54 \n",
      "Data preprocessing:{'SimpleImputer'}, Feature preprosser:{'do_noting'}, Classifier:{'fkceigenpro'}\n",
      "max acc in cluster 0.779 --- Min acc in cluster 0.755  ---- Mean acc0.7679814814814816\n",
      "------------------------------------\n",
      "k=8, cluster=5,len=1 \n",
      "Data preprocessing:{'ColumnTransformer'}, Feature preprosser:{'do_noting'}, Classifier:{'svc'}\n",
      "max acc in cluster 0.76 --- Min acc in cluster 0.76  ---- Mean acc0.76\n",
      "------------------------------------\n",
      "k=8, cluster=6,len=42 \n",
      "Data preprocessing:{'SimpleImputer'}, Feature preprosser:{'do_noting'}, Classifier:{'fkceigenpro'}\n",
      "max acc in cluster 0.778 --- Min acc in cluster 0.755  ---- Mean acc0.7635476190476191\n",
      "------------------------------------\n",
      "k=8, cluster=7,len=56 \n",
      "Data preprocessing:{'SimpleImputer'}, Feature preprosser:{'do_noting'}, Classifier:{'fkceigenpro'}\n",
      "max acc in cluster 0.778 --- Min acc in cluster 0.7559999999999999  ---- Mean acc0.7656428571428572\n",
      "------------------------------------\n",
      "-------------------------------------------------------\n",
      "k=9, cluster=0,len=2955 \n",
      "Data preprocessing:{'SimpleImputer', 'ColumnTransformer'}, Feature preprosser:{'VarianceThreshold', 'do_noting'}, Classifier:{'bernoullinb', 'decisiontreeclassifier', 'sgdclassifier', 'randomforestclassifier', 'svc', 'gradientboostingclassifier', 'extratreesclassifier', 'mlpclassifier'}\n",
      "max acc in cluster 0.774 --- Min acc in cluster 0.24100000000000002  ---- Mean acc0.7014798646362098\n",
      "------------------------------------\n",
      "k=9, cluster=1,len=50 \n",
      "Data preprocessing:{'SimpleImputer'}, Feature preprosser:{'do_noting'}, Classifier:{'fkceigenpro'}\n",
      "max acc in cluster 0.779 --- Min acc in cluster 0.7559999999999999  ---- Mean acc0.7694799999999999\n",
      "------------------------------------\n",
      "k=9, cluster=2,len=1113 \n",
      "Data preprocessing:{'SimpleImputer'}, Feature preprosser:{'do_noting'}, Classifier:{'fkceigenpro'}\n",
      "max acc in cluster 0.78 --- Min acc in cluster 0.755  ---- Mean acc0.7672165318957772\n",
      "------------------------------------\n",
      "k=9, cluster=3,len=50 \n",
      "Data preprocessing:{'SimpleImputer'}, Feature preprosser:{'do_noting'}, Classifier:{'fkceigenpro'}\n",
      "max acc in cluster 0.7809999999999999 --- Min acc in cluster 0.755  ---- Mean acc0.7652800000000002\n",
      "------------------------------------\n",
      "k=9, cluster=4,len=54 \n",
      "Data preprocessing:{'SimpleImputer'}, Feature preprosser:{'do_noting'}, Classifier:{'fkceigenpro'}\n",
      "max acc in cluster 0.779 --- Min acc in cluster 0.755  ---- Mean acc0.7679814814814816\n",
      "------------------------------------\n",
      "k=9, cluster=5,len=1 \n",
      "Data preprocessing:{'ColumnTransformer'}, Feature preprosser:{'do_noting'}, Classifier:{'svc'}\n",
      "max acc in cluster 0.76 --- Min acc in cluster 0.76  ---- Mean acc0.76\n",
      "------------------------------------\n",
      "k=9, cluster=6,len=42 \n",
      "Data preprocessing:{'SimpleImputer'}, Feature preprosser:{'do_noting'}, Classifier:{'fkceigenpro'}\n",
      "max acc in cluster 0.778 --- Min acc in cluster 0.755  ---- Mean acc0.7635476190476191\n",
      "------------------------------------\n",
      "k=9, cluster=7,len=56 \n",
      "Data preprocessing:{'SimpleImputer'}, Feature preprosser:{'do_noting'}, Classifier:{'fkceigenpro'}\n",
      "max acc in cluster 0.778 --- Min acc in cluster 0.7559999999999999  ---- Mean acc0.7656428571428572\n",
      "------------------------------------\n",
      "k=9, cluster=8,len=2321 \n",
      "Data preprocessing:{'SimpleImputer', 'ColumnTransformer'}, Feature preprosser:{'VarianceThreshold', 'do_noting'}, Classifier:{'svc'}\n",
      "max acc in cluster 0.78 --- Min acc in cluster 0.513  ---- Mean acc0.7133007324429125\n",
      "------------------------------------\n",
      "-------------------------------------------------------\n",
      "k=10, cluster=0,len=2955 \n",
      "Data preprocessing:{'SimpleImputer', 'ColumnTransformer'}, Feature preprosser:{'VarianceThreshold', 'do_noting'}, Classifier:{'bernoullinb', 'decisiontreeclassifier', 'sgdclassifier', 'randomforestclassifier', 'svc', 'gradientboostingclassifier', 'extratreesclassifier', 'mlpclassifier'}\n",
      "max acc in cluster 0.774 --- Min acc in cluster 0.24100000000000002  ---- Mean acc0.7014798646362098\n",
      "------------------------------------\n",
      "k=10, cluster=1,len=50 \n",
      "Data preprocessing:{'SimpleImputer'}, Feature preprosser:{'do_noting'}, Classifier:{'fkceigenpro'}\n",
      "max acc in cluster 0.779 --- Min acc in cluster 0.7559999999999999  ---- Mean acc0.7694799999999999\n",
      "------------------------------------\n",
      "k=10, cluster=2,len=1045 \n",
      "Data preprocessing:{'SimpleImputer'}, Feature preprosser:{'do_noting'}, Classifier:{'fkceigenpro'}\n",
      "max acc in cluster 0.78 --- Min acc in cluster 0.755  ---- Mean acc0.7671234449760765\n",
      "------------------------------------\n",
      "k=10, cluster=3,len=50 \n",
      "Data preprocessing:{'SimpleImputer'}, Feature preprosser:{'do_noting'}, Classifier:{'fkceigenpro'}\n",
      "max acc in cluster 0.7809999999999999 --- Min acc in cluster 0.755  ---- Mean acc0.7652800000000002\n",
      "------------------------------------\n",
      "k=10, cluster=4,len=54 \n",
      "Data preprocessing:{'SimpleImputer'}, Feature preprosser:{'do_noting'}, Classifier:{'fkceigenpro'}\n",
      "max acc in cluster 0.779 --- Min acc in cluster 0.755  ---- Mean acc0.7679814814814816\n",
      "------------------------------------\n",
      "k=10, cluster=5,len=1 \n",
      "Data preprocessing:{'ColumnTransformer'}, Feature preprosser:{'do_noting'}, Classifier:{'svc'}\n",
      "max acc in cluster 0.76 --- Min acc in cluster 0.76  ---- Mean acc0.76\n",
      "------------------------------------\n",
      "k=10, cluster=6,len=42 \n",
      "Data preprocessing:{'SimpleImputer'}, Feature preprosser:{'do_noting'}, Classifier:{'fkceigenpro'}\n",
      "max acc in cluster 0.778 --- Min acc in cluster 0.755  ---- Mean acc0.7635476190476191\n",
      "------------------------------------\n",
      "k=10, cluster=7,len=56 \n",
      "Data preprocessing:{'SimpleImputer'}, Feature preprosser:{'do_noting'}, Classifier:{'fkceigenpro'}\n",
      "max acc in cluster 0.778 --- Min acc in cluster 0.7559999999999999  ---- Mean acc0.7656428571428572\n",
      "------------------------------------\n",
      "k=10, cluster=8,len=2321 \n",
      "Data preprocessing:{'SimpleImputer', 'ColumnTransformer'}, Feature preprosser:{'VarianceThreshold', 'do_noting'}, Classifier:{'svc'}\n",
      "max acc in cluster 0.78 --- Min acc in cluster 0.513  ---- Mean acc0.7133007324429125\n",
      "------------------------------------\n",
      "k=10, cluster=9,len=68 \n",
      "Data preprocessing:{'SimpleImputer'}, Feature preprosser:{'do_noting'}, Classifier:{'fkceigenpro'}\n",
      "max acc in cluster 0.78 --- Min acc in cluster 0.7559999999999999  ---- Mean acc0.7686470588235295\n",
      "------------------------------------\n",
      "-------------------------------------------------------\n"
     ]
    }
   ],
   "source": [
    "temp.cluter_report(df_31,CLUSTER_MAP,11)"
   ]
  },
  {
   "cell_type": "code",
   "execution_count": 16,
   "metadata": {},
   "outputs": [
    {
     "data": {
      "text/plain": [
       "<matplotlib.collections.PathCollection at 0x7fd36886c240>"
      ]
     },
     "execution_count": 16,
     "metadata": {},
     "output_type": "execute_result"
    },
    {
     "data": {
      "image/png": "[encoded data removed]",
      "text/plain": [
       "<Figure size 432x288 with 1 Axes>"
      ]
     },
     "metadata": {
      "needs_background": "light"
     },
     "output_type": "display_data"
    }
   ],
   "source": [
    "from sklearn.decomposition import PCA\n",
    "pca = PCA(n_components=2)\n",
    "\n",
    "\n",
    "principalComponents = pca.fit_transform(X)\n",
    "principalDf = pd.DataFrame(data = principalComponents\n",
    "             , columns = ['component1', 'component2'])\n",
    "a = principalDf.values\n",
    "\n",
    "fig, ax = plt.subplots()\n",
    "ax.scatter(a[:,0],a[:,1])"
   ]
  },
  {
   "cell_type": "markdown",
   "metadata": {},
   "source": [
    "## Find the cluster size based on silhouette"
   ]
  },
  {
   "cell_type": "code",
   "execution_count": 17,
   "metadata": {},
   "outputs": [
    {
     "name": "stdout",
     "output_type": "stream",
     "text": [
      "For n_clusters = 2, silhouette score is 0.9863497986266451)\n",
      "For n_clusters = 3, silhouette score is 0.9797732497896744)\n",
      "For n_clusters = 4, silhouette score is 0.9951205614315957)\n",
      "For n_clusters = 5, silhouette score is 0.9983883539819979)\n",
      "For n_clusters = 6, silhouette score is 0.9982153718031744)\n",
      "For n_clusters = 7, silhouette score is 0.9977676939004865)\n",
      "For n_clusters = 8, silhouette score is 0.997240780583281)\n",
      "For n_clusters = 9, silhouette score is 0.946381491320357)\n"
     ]
    },
    {
     "data": {
      "text/plain": [
       "[<matplotlib.lines.Line2D at 0x7fd3660b2630>]"
      ]
     },
     "execution_count": 17,
     "metadata": {},
     "output_type": "execute_result"
    },
    {
     "data": {
      "image/png": "[encoded data removed]",
      "text/plain": [
       "<Figure size 432x288 with 1 Axes>"
      ]
     },
     "metadata": {
      "needs_background": "light"
     },
     "output_type": "display_data"
    }
   ],
   "source": [
    "scors=[]\n",
    "for n_clusters in range(2,10):\n",
    "    clusterer = KMeans(n_clusters=n_clusters)\n",
    "    preds = clusterer.fit_predict(X)\n",
    "    centers = clusterer.cluster_centers_\n",
    "\n",
    "    score = silhouette_score(X, preds)\n",
    "    scors.append(score)\n",
    "    print(\"For n_clusters = {}, silhouette score is {})\".format(n_clusters, score))\n",
    "plt.plot(range(2,10),scors)"
   ]
  },
  {
   "cell_type": "code",
   "execution_count": 58,
   "metadata": {},
   "outputs": [],
   "source": [
    "all_cluster = []"
   ]
  },
  {
   "cell_type": "code",
   "execution_count": null,
   "metadata": {},
   "outputs": [],
   "source": [
    "all_cluster = temp.selecet_index_base_kmeans(X,5,50)\n",
    "len(all_cluster)"
   ]
  },
  {
   "cell_type": "code",
   "execution_count": 15,
   "metadata": {},
   "outputs": [
    {
     "name": "stdout",
     "output_type": "stream",
     "text": [
      "2955\n",
      "2955\n"
     ]
    }
   ],
   "source": [
    "l = np.where([CLUSTER_MAP['cluster_10'] == 0])[1]\n",
    "print(len(l))\n",
    "all_cluster = list(all_cluster) + list(l) \n",
    "print(len(all_cluster))"
   ]
  },
  {
   "cell_type": "code",
   "execution_count": 99,
   "metadata": {},
   "outputs": [
    {
     "data": {
      "text/plain": [
       "0"
      ]
     },
     "execution_count": 99,
     "metadata": {},
     "output_type": "execute_result"
    }
   ],
   "source": [
    "g=np.where ((df_31['accuracy']>0.8) & (df_31['accuracy']< 0.9))\n",
    "len(list(g[0]))"
   ]
  },
  {
   "cell_type": "code",
   "execution_count": 96,
   "metadata": {},
   "outputs": [],
   "source": [
    "g= list(g[0])"
   ]
  },
  {
   "cell_type": "code",
   "execution_count": 92,
   "metadata": {
    "scrolled": true
   },
   "outputs": [
    {
     "data": {
      "text/plain": [
       "0.7809999999999999"
      ]
     },
     "execution_count": 92,
     "metadata": {},
     "output_type": "execute_result"
    }
   ],
   "source": [
    "df_31.iloc[g]['accuracy'].max()"
   ]
  },
  {
   "cell_type": "code",
   "execution_count": 34,
   "metadata": {},
   "outputs": [
    {
     "name": "stdout",
     "output_type": "stream",
     "text": [
      "4677\n"
     ]
    }
   ],
   "source": [
    "for i in l:\n",
    "    if i in [2521, 2648, 3740, 4677, 4786, 4794, 4811, 4847, 4862, 4863, 4874,\n",
    "        4876, 4882, 4891, 4895, 4918, 4921, 4946, 4970, 4984, 4985, 4993,\n",
    "        5030, 5035, 5036, 5061, 5114, 5118, 5121, 5136, 5138, 5142, 5158,\n",
    "        5161, 5162, 5186, 5208, 5219, 5231, 5271, 5275, 5278, 5284, 5291,\n",
    "        5330, 5338, 5341, 5343, 5381, 5391, 5397, 5399, 5430, 5431, 5458,\n",
    "        5462, 5473, 5486, 5503, 5509, 5514, 5566, 5581, 5582, 5600, 5614,\n",
    "        5625, 5667, 5677, 5693, 5711, 5714, 5722, 5738, 5740, 5746, 5748,\n",
    "        5750, 5758, 5761, 5762, 5770, 5776, 5781, 5785, 5804, 5806, 5807,\n",
    "        5815, 5830, 5835, 5845, 5851, 5854, 5857, 5892, 5895, 5910, 5934,\n",
    "        5936, 5951, 6042, 6058, 6067, 6107, 6486]:\n",
    "        \n",
    "        print(i)"
   ]
  },
  {
   "cell_type": "code",
   "execution_count": 93,
   "metadata": {},
   "outputs": [
    {
     "data": {
      "text/plain": [
       "(array([4973, 5638]),)"
      ]
     },
     "execution_count": 93,
     "metadata": {},
     "output_type": "execute_result"
    }
   ],
   "source": [
    "np.where(df_31['accuracy']==0.7809999999999999)"
   ]
  },
  {
   "cell_type": "code",
   "execution_count": 100,
   "metadata": {},
   "outputs": [
    {
     "data": {
      "text/plain": [
       "135"
      ]
     },
     "execution_count": 100,
     "metadata": {},
     "output_type": "execute_result"
    }
   ],
   "source": [
    "len(all_cluster)"
   ]
  },
  {
   "cell_type": "code",
   "execution_count": 79,
   "metadata": {},
   "outputs": [],
   "source": [
    "all_cluster.append(2114)"
   ]
  },
  {
   "cell_type": "code",
   "execution_count": 98,
   "metadata": {},
   "outputs": [],
   "source": [
    "all_cluster = all_cluster + selected_points"
   ]
  },
  {
   "cell_type": "code",
   "execution_count": 75,
   "metadata": {},
   "outputs": [
    {
     "data": {
      "text/plain": [
       "[4732,\n",
       " 4692,\n",
       " 4730,\n",
       " 4735,\n",
       " 4742,\n",
       " 4748,\n",
       " 4747,\n",
       " 4728,\n",
       " 4721,\n",
       " 4696,\n",
       " 4754,\n",
       " 4713,\n",
       " 4726,\n",
       " 4724,\n",
       " 4698,\n",
       " 4712]"
      ]
     },
     "execution_count": 75,
     "metadata": {},
     "output_type": "execute_result"
    }
   ],
   "source": [
    "all_cluster"
   ]
  },
  {
   "cell_type": "code",
   "execution_count": 97,
   "metadata": {},
   "outputs": [
    {
     "data": {
      "text/plain": [
       "[5090,\n",
       " 3216,\n",
       " 2633,\n",
       " 4921,\n",
       " 1985,\n",
       " 2406,\n",
       " 1508,\n",
       " 1553,\n",
       " 1531,\n",
       " 270,\n",
       " 5225,\n",
       " 5585,\n",
       " 2145,\n",
       " 4010,\n",
       " 565,\n",
       " 735,\n",
       " 5766,\n",
       " 6414,\n",
       " 1068,\n",
       " 1227,\n",
       " 316,\n",
       " 657,\n",
       " 5934,\n",
       " 4567,\n",
       " 5805,\n",
       " 3269,\n",
       " 5983,\n",
       " 4436,\n",
       " 2281,\n",
       " 4413,\n",
       " 1931,\n",
       " 1764,\n",
       " 5772,\n",
       " 5037,\n",
       " 3512,\n",
       " 4954,\n",
       " 2278,\n",
       " 3778,\n",
       " 4160,\n",
       " 5614,\n",
       " 5458,\n",
       " 5942,\n",
       " 2975,\n",
       " 674,\n",
       " 2693,\n",
       " 946,\n",
       " 4104,\n",
       " 5015,\n",
       " 5368,\n",
       " 2787,\n",
       " 1561,\n",
       " 1993,\n",
       " 132,\n",
       " 6198,\n",
       " 2242,\n",
       " 961,\n",
       " 5984,\n",
       " 1808,\n",
       " 3103,\n",
       " 1398,\n",
       " 2763,\n",
       " 3570,\n",
       " 509,\n",
       " 826,\n",
       " 6623,\n",
       " 1200,\n",
       " 5921,\n",
       " 1794,\n",
       " 370,\n",
       " 4907,\n",
       " 5401,\n",
       " 4515,\n",
       " 5138,\n",
       " 5781,\n",
       " 606,\n",
       " 218,\n",
       " 1021,\n",
       " 5407,\n",
       " 1546,\n",
       " 5173,\n",
       " 4924,\n",
       " 982,\n",
       " 3268,\n",
       " 751,\n",
       " 3087,\n",
       " 952,\n",
       " 298,\n",
       " 5166,\n",
       " 177,\n",
       " 1596,\n",
       " 1517,\n",
       " 6088,\n",
       " 1016,\n",
       " 4038,\n",
       " 1727,\n",
       " 6162,\n",
       " 500,\n",
       " 5771,\n",
       " 186,\n",
       " 4597]"
      ]
     },
     "execution_count": 97,
     "metadata": {},
     "output_type": "execute_result"
    }
   ],
   "source": [
    "selected_points = random.sample(g,100)\n",
    "selected_points"
   ]
  },
  {
   "cell_type": "code",
   "execution_count": 36,
   "metadata": {},
   "outputs": [],
   "source": [
    "l = np.delete(l, 2859)"
   ]
  },
  {
   "cell_type": "code",
   "execution_count": 37,
   "metadata": {},
   "outputs": [
    {
     "data": {
      "text/plain": [
       "0.7709999999999999"
      ]
     },
     "execution_count": 37,
     "metadata": {},
     "output_type": "execute_result"
    }
   ],
   "source": [
    "df_31.iloc[l]['accuracy'].max()"
   ]
  },
  {
   "cell_type": "code",
   "execution_count": 38,
   "metadata": {},
   "outputs": [
    {
     "data": {
      "text/plain": [
       "2953"
      ]
     },
     "execution_count": 38,
     "metadata": {},
     "output_type": "execute_result"
    }
   ],
   "source": [
    "len(l)"
   ]
  },
  {
   "cell_type": "code",
   "execution_count": null,
   "metadata": {},
   "outputs": [],
   "source": [
    "df_31['classifier'].unique()"
   ]
  },
  {
   "cell_type": "code",
   "execution_count": 101,
   "metadata": {},
   "outputs": [
    {
     "data": {
      "text/plain": [
       "6642"
      ]
     },
     "execution_count": 101,
     "metadata": {},
     "output_type": "execute_result"
    }
   ],
   "source": [
    "trial_31 = pickle.load(open(\"/home/dfki/Desktop/Thesis/openml_test/pickel_files/31/trial_31_withrunid1.p\", \"rb\"))\n",
    "len(trial_31.trials)"
   ]
  },
  {
   "cell_type": "code",
   "execution_count": 102,
   "metadata": {},
   "outputs": [],
   "source": [
    "t_1724 = temp.specialindex_trial_builder(trial_31,all_cluster)\n",
    "pickle.dump(t_1724, open('/home/dfki/Desktop/Thesis/hyperopt/result_openml/final_result/31/kmeans/buildup_trial/135_findbyhand.p','wb'))"
   ]
  },
  {
   "cell_type": "code",
   "execution_count": null,
   "metadata": {},
   "outputs": [],
   "source": [
    "np.array(t_1724.losses()).mean()"
   ]
  },
  {
   "cell_type": "code",
   "execution_count": null,
   "metadata": {},
   "outputs": [],
   "source": [
    "test = pickle.load(open(\"/home/dfki/Desktop/Thesis/hyperopt/result_openml/mylaptop/31/automatic/new/552in_kmeans8_eval.p\", \"rb\"))\n",
    "len(test.trials)"
   ]
  },
  {
   "cell_type": "code",
   "execution_count": null,
   "metadata": {},
   "outputs": [],
   "source": [
    "a =[]\n",
    "for i in range(552):\n",
    "    a.append(abs(test.trials[i]['result']['loss']))\n",
    "print(np.array(a).max())"
   ]
  },
  {
   "cell_type": "code",
   "execution_count": 44,
   "metadata": {},
   "outputs": [
    {
     "data": {
      "text/plain": [
       "<matplotlib.collections.PathCollection at 0x7f4c003afdd8>"
      ]
     },
     "execution_count": 44,
     "metadata": {},
     "output_type": "execute_result"
    },
    {
     "data": {
      "image/png": "[encoded data removed]",
      "text/plain": [
       "<Figure size 432x288 with 1 Axes>"
      ]
     },
     "metadata": {
      "needs_background": "light"
     },
     "output_type": "display_data"
    }
   ],
   "source": [
    "mean=[\n",
    "78.09,\n",
    "77.4,\n",
    "78,\n",
    "77.8,\n",
    "78\n",
    "]\n",
    "bestin=[\n",
    "71.91,\n",
    "70.14,\n",
    "76.86,\n",
    "70.99,\n",
    "71.33\n",
    "]\n",
    "\n",
    "bestfound=[\n",
    "    77.1,\n",
    "77.1,\n",
    "76.70,\n",
    "76.7,\n",
    "75.50\n",
    "]\n",
    "plt.ylabel('best found')\n",
    "plt.xlabel('mean input')\n",
    "plt.scatter(bestin,bestfound)\n"
   ]
  },
  {
   "cell_type": "code",
   "execution_count": null,
   "metadata": {},
   "outputs": [],
   "source": [
    "\n",
    "77.1\n",
    "77.1\n",
    "76.70\n",
    "76.7\n",
    "75.50\n"
   ]
  },
  {
   "cell_type": "code",
   "execution_count": 10,
   "metadata": {},
   "outputs": [
    {
     "data": {
      "text/html": [
       "<div>\n",
       "<style scoped>\n",
       "    .dataframe tbody tr th:only-of-type {\n",
       "        vertical-align: middle;\n",
       "    }\n",
       "\n",
       "    .dataframe tbody tr th {\n",
       "        vertical-align: top;\n",
       "    }\n",
       "\n",
       "    .dataframe thead th {\n",
       "        text-align: right;\n",
       "    }\n",
       "</style>\n",
       "<table border=\"1\" class=\"dataframe\">\n",
       "  <thead>\n",
       "    <tr style=\"text-align: right;\">\n",
       "      <th></th>\n",
       "      <th>A</th>\n",
       "      <th>B</th>\n",
       "      <th>C</th>\n",
       "    </tr>\n",
       "  </thead>\n",
       "  <tbody>\n",
       "    <tr>\n",
       "      <th>0</th>\n",
       "      <td>1</td>\n",
       "      <td>1.0</td>\n",
       "      <td>NaN</td>\n",
       "    </tr>\n",
       "    <tr>\n",
       "      <th>1</th>\n",
       "      <td>24</td>\n",
       "      <td>4.0</td>\n",
       "      <td>NaN</td>\n",
       "    </tr>\n",
       "    <tr>\n",
       "      <th>2</th>\n",
       "      <td>4</td>\n",
       "      <td>NaN</td>\n",
       "      <td>NaN</td>\n",
       "    </tr>\n",
       "  </tbody>\n",
       "</table>\n",
       "</div>"
      ],
      "text/plain": [
       "    A    B   C\n",
       "0   1  1.0 NaN\n",
       "1  24  4.0 NaN\n",
       "2   4  NaN NaN"
      ]
     },
     "execution_count": 10,
     "metadata": {},
     "output_type": "execute_result"
    }
   ],
   "source": [
    "d={'A':[1,24,4],'B':[1,4,np.nan],'C':[np.nan,np.nan,np.nan]}\n",
    "df1=pd.DataFrame(d)\n",
    "df1"
   ]
  },
  {
   "cell_type": "code",
   "execution_count": 11,
   "metadata": {},
   "outputs": [
    {
     "data": {
      "text/html": [
       "<div>\n",
       "<style scoped>\n",
       "    .dataframe tbody tr th:only-of-type {\n",
       "        vertical-align: middle;\n",
       "    }\n",
       "\n",
       "    .dataframe tbody tr th {\n",
       "        vertical-align: top;\n",
       "    }\n",
       "\n",
       "    .dataframe thead th {\n",
       "        text-align: right;\n",
       "    }\n",
       "</style>\n",
       "<table border=\"1\" class=\"dataframe\">\n",
       "  <thead>\n",
       "    <tr style=\"text-align: right;\">\n",
       "      <th></th>\n",
       "      <th>A</th>\n",
       "      <th>B</th>\n",
       "    </tr>\n",
       "  </thead>\n",
       "  <tbody>\n",
       "    <tr>\n",
       "      <th>0</th>\n",
       "      <td>1</td>\n",
       "      <td>1.0</td>\n",
       "    </tr>\n",
       "    <tr>\n",
       "      <th>1</th>\n",
       "      <td>24</td>\n",
       "      <td>4.0</td>\n",
       "    </tr>\n",
       "    <tr>\n",
       "      <th>2</th>\n",
       "      <td>4</td>\n",
       "      <td>NaN</td>\n",
       "    </tr>\n",
       "  </tbody>\n",
       "</table>\n",
       "</div>"
      ],
      "text/plain": [
       "    A    B\n",
       "0   1  1.0\n",
       "1  24  4.0\n",
       "2   4  NaN"
      ]
     },
     "execution_count": 11,
     "metadata": {},
     "output_type": "execute_result"
    }
   ],
   "source": [
    "df1 = df1.dropna(axis='columns', how='all')\n",
    "df1"
   ]
  },
  {
   "cell_type": "code",
   "execution_count": 3,
   "metadata": {},
   "outputs": [],
   "source": [
    "trials31 = pickle.load(open(\"/home/dfki/Desktop/Thesis/openml_test/pickel_files/31/trial_31.p\", \"rb\"))\n",
    "trials32 = pickle.load(open(\"/home/dfki/Desktop/Thesis/openml_test/pickel_files/32/trial_32.p\", \"rb\"))\n",
    "trials3 = pickle.load(open(\"/home/dfki/Desktop/Thesis/openml_test/pickel_files/3/trial_3.p\", \"rb\"))\n",
    "trials125923 = pickle.load(open(\"/home/dfki/Desktop/Thesis/openml_test/pickel_files/125923/trial_125923.p\", \"rb\"))\n"
   ]
  },
  {
   "cell_type": "code",
   "execution_count": 4,
   "metadata": {},
   "outputs": [],
   "source": [
    "trials31_losse = [abs(i) for i in trials31.losses()]\n",
    "trials32_losse = [abs(i) for i in trials32.losses()]\n",
    "trials3_losse = [abs(i) for i in trials3.losses()]\n",
    "trials125923_losse = [abs(i) for i in trials3.losses()]"
   ]
  },
  {
   "cell_type": "code",
   "execution_count": 5,
   "metadata": {},
   "outputs": [
    {
     "data": {
      "text/plain": [
       "(0.0, 1.0)"
      ]
     },
     "execution_count": 5,
     "metadata": {},
     "output_type": "execute_result"
    },
    {
     "data": {
      "image/png": "[encoded data removed]",
      "text/plain": [
       "<Figure size 432x288 with 1 Axes>"
      ]
     },
     "metadata": {},
     "output_type": "display_data"
    }
   ],
   "source": [
    "sns.set(font_scale=1.,style='whitegrid')\n",
    "sns.distplot(trials3_losse, kde=False, color='Blue', bins=5)\n",
    "plt.title('Hi')\n",
    "plt.xlim(0, 1)\n"
   ]
  },
  {
   "cell_type": "code",
   "execution_count": 21,
   "metadata": {},
   "outputs": [
    {
     "data": {
      "image/png": "[encoded data removed]",
      "text/plain": [
       "<Figure size 720x720 with 4 Axes>"
      ]
     },
     "metadata": {},
     "output_type": "display_data"
    }
   ],
   "source": [
    "import matplotlib.pyplot as plt\n",
    "import numpy as np\n",
    "\n",
    "# create 2x2 grid of axis subplots\n",
    "fig, ((ax1, ax2), (ax3, ax4)) = plt.subplots(2, 2, sharex=True,figsize=(10,10))\n",
    "\n",
    "\n",
    "plt.subplots_adjust(left=None, bottom=None, right=1.2, top=1.2 ,wspace=None, hspace=None) \n",
    "axs = [ax1,ax2,ax3,ax4]\n",
    "\n",
    "\n",
    "axs[0].hist(trials3_losse, bins=5)\n",
    "axs[0].set_title('Dataset 3')\n",
    "axs[0].set_xlabel('Accuracy')\n",
    "axs[0].set_ylabel('Number of pipelines')\n",
    "\n",
    "axs[1].hist(trials31_losse, bins=5)\n",
    "axs[1].set_title('Dataset 31')\n",
    "axs[1].set_xlabel('Accuracy')\n",
    "axs[1].set_ylabel('Number of pipelines')\n",
    "\n",
    "\n",
    "axs[2].hist(trials32_losse, bins=5)\n",
    "axs[2].set_title('Dataset 32')\n",
    "axs[2].set_xlabel('Accuracy')\n",
    "axs[2].set_ylabel('Number of pipelines')\n",
    "\n",
    "\n",
    "axs[3].hist(trials125923_losse, bins=5)\n",
    "axs[3].set_title('Dataset 40509')\n",
    "axs[3].set_xlabel('Accuracy')\n",
    "axs[3].set_ylabel('Number of pipelines')\n",
    "\n",
    "plt.show()"
   ]
  },
  {
   "cell_type": "code",
   "execution_count": 108,
   "metadata": {},
   "outputs": [],
   "source": [
    "trials_merged = trials_from_docs(list(trials31) + list(trials32)+ list(trials3)+ list(trials125923))"
   ]
  },
  {
   "cell_type": "code",
   "execution_count": 109,
   "metadata": {},
   "outputs": [
    {
     "data": {
      "text/plain": [
       "46998"
      ]
     },
     "execution_count": 109,
     "metadata": {},
     "output_type": "execute_result"
    }
   ],
   "source": [
    "len(trials_merged.trials)"
   ]
  },
  {
   "cell_type": "code",
   "execution_count": 110,
   "metadata": {},
   "outputs": [],
   "source": [
    "#save the result\n",
    "pickle.dump(trials_merged, open('/home/dfki/Desktop/Thesis/openml_test/pickel_files/46998_alltrials.p', 'wb'))"
   ]
  },
  {
   "cell_type": "code",
   "execution_count": null,
   "metadata": {},
   "outputs": [],
   "source": []
  }
 ],
 "metadata": {
  "kernelspec": {
   "display_name": "Python 3",
   "language": "python",
   "name": "python3"
  }
 },
 "nbformat": 4,
 "nbformat_minor": 4
}
