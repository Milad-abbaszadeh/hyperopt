{
 "cells": [
  {
   "cell_type": "markdown",
   "metadata": {},
   "source": [
    "# Get runs from openml and change to way that hyperopt get it "
   ]
  },
  {
   "cell_type": "code",
   "execution_count": 15,
   "metadata": {},
   "outputs": [],
   "source": [
    "#colect the run ids for specific task \n",
    "run_ids_flow_i = []\n",
    "for key in openml.runs.list_runs(task=[31]):\n",
    "    run_ids_flow_i.append(key)"
   ]
  },
  {
   "cell_type": "code",
   "execution_count": 18,
   "metadata": {},
   "outputs": [],
   "source": [
    "runs = run_ids_flow_i"
   ]
  },
  {
   "cell_type": "code",
   "execution_count": null,
   "metadata": {},
   "outputs": [],
   "source": [
    "import openml\n",
    "from hyperopt import fmin, tpe, hp, STATUS_OK, Trials\n",
    "\n",
    "# runs = [2083190, 2083596,2083543,2083187,2083188,2083110,2088190,2083169]\n",
    "runs = [10265841]\n",
    "def run_to_dic(run_id):\n",
    "    run_downloaded = openml.runs.get_run(run_id)\n",
    "    setup_id = run_downloaded.setup_id\n",
    "    flowid = run_downloaded.flow_id\n",
    "    flow = openml.flows.get_flow(flowid)\n",
    "    flow_component = flow.components.keys()\n",
    "    \n",
    "    from IPython.core.debugger import Tracer; Tracer()() \n",
    "    print(flow_component)\n",
    "    print(\"Number of component is {}\".format(len(flow_component)))\n",
    "    print(flow_component)\n",
    "    last_dic = {}\n",
    "    if len(flow_component)<=3:\n",
    "        setup = openml.setups.get_setup(setup_id)\n",
    "        for component in flow_component:\n",
    "            for hyperparameter in setup.parameters.values():\n",
    "                if hyperparameter.parameter_name == 'steps':\n",
    "                    pass\n",
    "                else:\n",
    "                    if str(component).lower() in str(hyperparameter.full_name).lower():\n",
    "                        last_dic['{}__{}'.format(component, hyperparameter.parameter_name)] = hyperparameter.value\n",
    "\n",
    "        print(last_dic)\n",
    "        print(\"$$$$$$$$$$$\")\n",
    "    return last_dic\n",
    "\n",
    "list_runs=[]\n",
    "for i in runs:\n",
    "    if len(run_to_dic(i))>1:\n",
    "        list_runs.append(run_to_dic(i))\n",
    "\n"
   ]
  },
  {
   "cell_type": "code",
   "execution_count": 14,
   "metadata": {},
   "outputs": [
    {
     "data": {
      "text/plain": [
       "'0.9.0'"
      ]
     },
     "execution_count": 14,
     "metadata": {},
     "output_type": "execute_result"
    }
   ],
   "source": [
    "openml.__version__"
   ]
  },
  {
   "cell_type": "code",
   "execution_count": 17,
   "metadata": {},
   "outputs": [
    {
     "data": {
      "text/plain": [
       "414100"
      ]
     },
     "execution_count": 17,
     "metadata": {},
     "output_type": "execute_result"
    }
   ],
   "source": [
    "len(run_ids_flow_i)"
   ]
  },
  {
   "cell_type": "code",
   "execution_count": null,
   "metadata": {},
   "outputs": [],
   "source": [
    "def make_param_space_pure(preprosessor,model):\n",
    "\n",
    "    param_space_pure = {\n",
    "        '{}__copy'.format(preprosessor): [True, False],\n",
    "        '{}__iterated_power'.format(preprosessor):['auto', 0, 10],\n",
    "        '{}__n_components'.format(preprosessor): [None, 1, 19],\n",
    "        '{}__random_state'.format(preprosessor): [None],\n",
    "        '{}__tol'.format(preprosessor): [0.0, 0.5],\n",
    "        '{}__whiten'.format(preprosessor): [True, False],\n",
    "\n",
    "        '{}__bootstrap'.format(model): [True],\n",
    "        '{}__criterion'.format(model): [\"gini\", \"entropy\"],\n",
    "        '{}__max_depth'.format(model): [9,10,11, 15, 20,None],\n",
    "        '{}__max_features'.format(model): ['auto', 'sqrt', 'log2',0.15,0.25,0.3, 0.45],\n",
    "        '{}__max_leaf_nodes'.format(model): [None, 10],\n",
    "        '{}__min_samples_leaf'.format(model): range(1, 10),\n",
    "        '{}__min_samples_split'.format(model): [2,3,4,5,7,9, 0.5],\n",
    "        '{}__min_weight_fraction_leaf'.format(model): [0.0, 0.5],\n",
    "        '{}__n_estimators'.format(model): range(300, 600),\n",
    "        '{}__oob_score'.format(model): [True, False],\n",
    "        '{}__random_state'.format(model):[None,3, 5],\n",
    "        '{}__verbose'.format(model): [0, 1],\n",
    "        '{}__warm_start'.format(model):[True, False]\n",
    "    }\n",
    "    return param_space_pure\n",
    "param_space_pure = make_param_space_pure('pca','randomforestclassifier')\n",
    "\n",
    "def change_dic_hyperoptobj(param_space_pure, openml_dic):\n",
    "    new_dic = {}\n",
    "    for key, value in openml_dic.items():\n",
    "        if key in param_space_pure.keys():\n",
    "            if type(param_space_pure[key]) == list:\n",
    "                try:\n",
    "                    value = int(value)\n",
    "                except:\n",
    "                    pass\n",
    "                try:\n",
    "                    value = float(value)\n",
    "                except:\n",
    "                    pass\n",
    "                if value in ['True','False']:\n",
    "                    try:\n",
    "                        value = bool(value)\n",
    "                    except:\n",
    "                        pass\n",
    "                if value in ['None']:\n",
    "                    value = None\n",
    "\n",
    "                new_dic[key] = param_space_pure[key].index(value)\n",
    "            elif type(param_space_pure[key]) == range:\n",
    "                list_range = list(param_space_pure[key])\n",
    "                new_dic[key] = list_range.index(int(value))\n",
    "    #         else:\n",
    "    #             new_dic[key] = value\n",
    "    print(\"%%%%%%%%%%%%%%%%%%%%%%%%%%%%%%%%%%%%%%%%%%%\")\n",
    "    print(len(new_dic))\n",
    "    print(new_dic)\n",
    "    print(\"$$$$$$\")\n",
    "    print(len(openml_dic))\n",
    "    print(openml_dic)\n",
    "    print(\"%%%%%%%%%%%%%%%%%%%%%%%%%%%%%%%%%%%%%%%%%%%\")\n",
    "    return new_dic\n",
    "\n",
    "\n",
    "new_list_runs = []\n",
    "for index in range(len(list_runs)):\n",
    "    new_list_runs.append(change_dic_hyperoptobj(param_space_pure, list_runs[index]))"
   ]
  },
  {
   "cell_type": "markdown",
   "metadata": {},
   "source": [
    "# searchspace base on 50763 run which exploit from openml"
   ]
  },
  {
   "cell_type": "code",
   "execution_count": 2,
   "metadata": {},
   "outputs": [],
   "source": [
    "import pickle\n",
    "searchspace = pickle.load(open(\"/home/dfki/Desktop/Thesis/openml_test/searchspace_base50763run.p\", \"rb\"))"
   ]
  },
  {
   "cell_type": "code",
   "execution_count": 3,
   "metadata": {},
   "outputs": [
    {
     "name": "stdout",
     "output_type": "stream",
     "text": [
      "{'component_step': (['columntransformer', 'bernoullinb'], ['svc', 'columntransformer', 'variancethreshold']), 'flow_id': (6840, 16374), 'imputation__axis': ['0'], 'imputation__copy': ['true'], 'imputation__missing_values': ['\"NaN\"'], 'imputation__strategy': ('\"mean\"', '\"most_frequent\"'), 'imputation__verbose': ['0'], 'classifier__class_weight': ['null'], 'classifier__criterion': ('\"entropy\"', '\"gini\"'), 'classifier__max_depth': ('0.00066517545570699', '1.9995561953520538'), 'classifier__max_features': ['1.0'], 'classifier__max_leaf_nodes': ['null'], 'classifier__min_impurity_split': ['1e-07'], 'classifier__min_samples_leaf': ('1', '9'), 'classifier__min_samples_split': ('10', '9'), 'classifier__min_weight_fraction_leaf': ['0.0'], 'classifier__presort': ['false'], 'classifier__random_state': ('10069', '9949'), 'classifier__splitter': ['\"best\"'], 'columntransformer__memory': ['null'], 'columntransformer__n_jobs': ['null'], 'columntransformer__remainder': ('\"drop\"', '\"passthrough\"'), 'columntransformer__sparse_threshold': ['0.3'], 'columntransformer__transformer_weights': ['null'], 'decisiontreeclassifier__memory': ['null'], 'decisiontreeclassifier__class_weight': ['null'], 'decisiontreeclassifier__criterion': ('\"entropy\"', '\"gini\"'), 'decisiontreeclassifier__max_depth': ('0.0009035528566034845', 'null'), 'decisiontreeclassifier__max_features': ['1.0'], 'decisiontreeclassifier__max_leaf_nodes': ['null'], 'decisiontreeclassifier__min_impurity_decrease': ['0.0'], 'decisiontreeclassifier__min_impurity_split': ['null'], 'decisiontreeclassifier__min_samples_leaf': ('1', '9'), 'decisiontreeclassifier__min_samples_split': ('10', '9'), 'decisiontreeclassifier__min_weight_fraction_leaf': ['0.0'], 'decisiontreeclassifier__presort': ['false'], 'decisiontreeclassifier__random_state': ('1001', '9995'), 'decisiontreeclassifier__splitter': ['\"best\"'], 'mlpclassifier__memory': ['null'], 'mlpclassifier__activation': ('\"identity\"', '\"tanh\"'), 'mlpclassifier__alpha': ('0.00010695575243507994', '6.541497552990362e-05'), 'mlpclassifier__batch_size': ('\"auto\"', '95'), 'mlpclassifier__beta_1': ('0.00544424784765507', '0.9'), 'mlpclassifier__beta_2': ('0.047423225221743026', '0.999'), 'mlpclassifier__early_stopping': ('false', 'true'), 'mlpclassifier__epsilon': ['1e-08'], 'mlpclassifier__hidden_layer_sizes': ('1013', '951'), 'mlpclassifier__learning_rate': ('\"adaptive\"', '\"invscaling\"'), 'mlpclassifier__learning_rate_init': ('0.00013450694347599834', '7.740530907783659e-05'), 'mlpclassifier__max_iter': ('1003', '992'), 'mlpclassifier__momentum': ('0.06610188576749942', '0.983051121954481'), 'mlpclassifier__n_iter_no_change': ('10', '987'), 'mlpclassifier__nesterovs_momentum': ('false', 'true'), 'mlpclassifier__power_t': ('0.0002094262206310496', '5.7659652445073064e-05'), 'mlpclassifier__random_state': ('10431', '7737'), 'mlpclassifier__shuffle': ('false', 'true'), 'mlpclassifier__solver': ('\"adam\"', '\"sgd\"'), 'mlpclassifier__tol': ('0.0001', '7.072577204620778e-05'), 'mlpclassifier__validation_fraction': ('0.02981032116054394', '0.9838303246085297'), 'mlpclassifier__verbose': ['false'], 'mlpclassifier__warm_start': ['false'], 'bernoullinb__memory': ['null'], 'bernoullinb__alpha': ('0.010073368015954882', '98.93346969207758'), 'bernoullinb__binarize': ['0.0'], 'bernoullinb__class_prior': ['null'], 'bernoullinb__fit_prior': ('false', 'true'), 'extratreesclassifier__memory': ['null'], 'extratreesclassifier__bootstrap': ('false', 'true'), 'extratreesclassifier__class_weight': ['null'], 'extratreesclassifier__criterion': ('\"entropy\"', '\"gini\"'), 'extratreesclassifier__max_depth': ['null'], 'extratreesclassifier__max_features': ('0.00296553169445235', '0.9884684507203433'), 'extratreesclassifier__max_leaf_nodes': ['null'], 'extratreesclassifier__min_impurity_decrease': ['0.0'], 'extratreesclassifier__min_impurity_split': ['null'], 'extratreesclassifier__min_samples_leaf': ('1', '9'), 'extratreesclassifier__min_samples_split': ('10', '9'), 'extratreesclassifier__min_weight_fraction_leaf': ['0.0'], 'extratreesclassifier__n_estimators': ['100'], 'extratreesclassifier__n_jobs': ['null'], 'extratreesclassifier__oob_score': ['false'], 'extratreesclassifier__random_state': ('10211', '9292'), 'extratreesclassifier__verbose': ['0'], 'extratreesclassifier__warm_start': ['false'], 'gradientboostingclassifier__memory': ['null'], 'gradientboostingclassifier__criterion': ('\"friedman_mse\"', '\"mse\"'), 'gradientboostingclassifier__init': ['null'], 'gradientboostingclassifier__learning_rate': ('0.00010056450840281946', '9.920058705184867e-05'), 'gradientboostingclassifier__loss': ['\"deviance\"'], 'gradientboostingclassifier__max_depth': ('1', '9'), 'gradientboostingclassifier__max_features': ('0.00015525642662705952', '0.9998642646284683'), 'gradientboostingclassifier__max_leaf_nodes': ['null'], 'gradientboostingclassifier__min_impurity_decrease': ('0.00022898940251292466', '0.9996576747926129'), 'gradientboostingclassifier__min_impurity_split': ['null'], 'gradientboostingclassifier__min_samples_leaf': ('1', '9'), 'gradientboostingclassifier__min_samples_split': ('10', '9'), 'gradientboostingclassifier__min_weight_fraction_leaf': ('0.0001884133057376003', '8.873194131375772e-05'), 'gradientboostingclassifier__n_estimators': ('100', '995'), 'gradientboostingclassifier__n_iter_no_change': ('1', '999'), 'gradientboostingclassifier__presort': ['\"auto\"'], 'gradientboostingclassifier__random_state': ('0', '9994'), 'gradientboostingclassifier__subsample': ('0.0002081432615039791', '9.236456951389194e-06'), 'gradientboostingclassifier__tol': ('0.0001001692053800057', '9.996741607059855e-05'), 'gradientboostingclassifier__validation_fraction': ('0.00027270272088730785', '0.99676753787075'), 'gradientboostingclassifier__verbose': ['0'], 'gradientboostingclassifier__warm_start': ['false'], 'randomforestclassifier__memory': ['null'], 'randomforestclassifier__bootstrap': ('false', 'true'), 'randomforestclassifier__class_weight': ['null'], 'randomforestclassifier__criterion': ('\"entropy\"', '\"gini\"'), 'randomforestclassifier__max_depth': ['null'], 'randomforestclassifier__max_features': ('0.0005610718743580545', '0.9955977287784398'), 'randomforestclassifier__max_leaf_nodes': ['null'], 'randomforestclassifier__min_impurity_decrease': ['0.0'], 'randomforestclassifier__min_impurity_split': ['null'], 'randomforestclassifier__min_samples_leaf': ('1', '9'), 'randomforestclassifier__min_samples_split': ('10', '9'), 'randomforestclassifier__min_weight_fraction_leaf': ['0.0'], 'randomforestclassifier__n_estimators': ['100'], 'randomforestclassifier__n_jobs': ['null'], 'randomforestclassifier__oob_score': ['false'], 'randomforestclassifier__random_state': ('10000', '999'), 'randomforestclassifier__verbose': ['0'], 'randomforestclassifier__warm_start': ['false'], 'variancethreshold__threshold': ['0.0'], 'variancethreshold__memory': ['null'], 'columntransformer__transformers': ('[{\"oml-python:serialized_object\": \"component_reference\", \"value\": {\"key\": \"num\", \"step_name\": \"num\", \"argument_1\": [false, true, false, false, true, false, false, true, false, false, true, false, true, false, false, true, false, true, false, false]}}, {\"oml-python:serialized_object\": \"component_reference\", \"value\": {\"key\": \"cat\", \"step_name\": \"cat\", \"argument_1\": [true, false, true, true, false, true, true, false, true, true, false, true, false, true, true, false, true, false, true, true]}}]', '[{\"oml-python:serialized_object\": \"component_reference\", \"value\": {\"key\": \"numeric\", \"step_name\": \"numeric\", \"argument_1\": [1, 4, 7, 10, 12, 15, 17]}}, {\"oml-python:serialized_object\": \"component_reference\", \"value\": {\"key\": \"nominal\", \"step_name\": \"nominal\", \"argument_1\": [0, 2, 3, 5, 6, 8, 9, 11, 13, 14, 16, 18, 19]}}]'), 'svc__C': ('0.01', '9979.44679282882'), 'svc__cache_size': ['200'], 'svc__class_weight': ['null'], 'svc__coef0': ('-0.0001901088806708362', '0.9996939328918386'), 'svc__decision_function_shape': ['\"ovr\"'], 'svc__degree': ('1', '5'), 'svc__gamma': ('0.00010001864000043732', '9.984514749387293e-05'), 'svc__kernel': ('\"linear\"', '\"sigmoid\"'), 'svc__max_iter': ['-1'], 'svc__probability': ('false', 'true'), 'svc__random_state': ('1', '9999'), 'svc__shrinking': ('false', 'true'), 'svc__tol': ('0.00010032523263523512', '9.990234352037583e-05'), 'svc__verbose': ['false'], 'svc__memory': ['null'], 'histgradientboostingclassifier__l2_regularization': ('0.0', '1e-10'), 'histgradientboostingclassifier__learning_rate': ('0.001', '1.0'), 'histgradientboostingclassifier__loss': ['\"auto\"'], 'histgradientboostingclassifier__max_bins': ('128', '8'), 'histgradientboostingclassifier__max_depth': ('10', 'null'), 'histgradientboostingclassifier__max_iter': ('100', '500'), 'histgradientboostingclassifier__max_leaf_nodes': ('128', '8'), 'histgradientboostingclassifier__min_samples_leaf': ('1', '9'), 'histgradientboostingclassifier__n_iter_no_change': ['null'], 'histgradientboostingclassifier__random_state': ('10133', '9946'), 'histgradientboostingclassifier__scoring': ['null'], 'histgradientboostingclassifier__tol': ['1e-07'], 'histgradientboostingclassifier__validation_fraction': ('0.1', '0.2'), 'histgradientboostingclassifier__verbose': ['false'], 'histgradientboostingclassifier__memory': ['null'], 'simpleimputer__memory': ['null'], 'simpleimputer__verbose': ('0', 'false'), 'simpleimputer__add_indicator': ['false'], 'simpleimputer__copy': ['true'], 'simpleimputer__fill_value': ['null'], 'simpleimputer__missing_values': ['NaN'], 'simpleimputer__strategy': ('\"median\"', '\"most_frequent\"'), 'standardscaler__copy': ['true'], 'standardscaler__with_mean': ['true'], 'standardscaler__with_std': ['true'], 'standardscaler__memory': ['null'], 'standardscaler__verbose': ['false'], 'fkceigenpro__memory': ['null'], 'fkceigenpro__verbose': ['false'], 'fkceigenpro__bandwidth': ['5'], 'fkceigenpro__batch_size': ['\"auto\"'], 'fkceigenpro__coef0': ['1'], 'fkceigenpro__degree': ('2', '4'), 'fkceigenpro__gamma': ('0.0001', '1e-10'), 'fkceigenpro__kernel': ('\"laplace\"', '\"rbf\"'), 'fkceigenpro__kernel_params': ('\"\\\\\"\\\\\\\\\\\\\"\\\\\\\\\\\\\\\\\\\\\\\\\\\\\"null\\\\\\\\\\\\\\\\\\\\\\\\\\\\\"\\\\\\\\\\\\\"\\\\\"\"', 'null'), 'fkceigenpro__n_components': ('1000', '500'), 'fkceigenpro__n_epoch': ['2'], 'fkceigenpro__random_state': ('10045', '9993'), 'fkceigenpro__subsample_size': ['\"auto\"'], 'columntransformer__verbose': ['false']}\n"
     ]
    }
   ],
   "source": [
    "print(searchspace)"
   ]
  },
  {
   "cell_type": "code",
   "execution_count": 2,
   "metadata": {},
   "outputs": [],
   "source": [
    "import numpy as np\n",
    "X = np.array([[0., 1., 2., 2.],\n",
    "             [1., 1., 0., 1.]])"
   ]
  },
  {
   "cell_type": "code",
   "execution_count": 22,
   "metadata": {},
   "outputs": [
    {
     "data": {
      "text/plain": [
       "[0, 1, 2, 3]"
      ]
     },
     "execution_count": 22,
     "metadata": {},
     "output_type": "execute_result"
    }
   ],
   "source": [
    "[i for i in range(X.shape[1])]"
   ]
  },
  {
   "cell_type": "code",
   "execution_count": 19,
   "metadata": {},
   "outputs": [
    {
     "ename": "SyntaxError",
     "evalue": "invalid syntax (<ipython-input-19-10e623d38eaa>, line 4)",
     "output_type": "error",
     "traceback": [
      "\u001b[0;36m  File \u001b[0;32m\"<ipython-input-19-10e623d38eaa>\"\u001b[0;36m, line \u001b[0;32m4\u001b[0m\n\u001b[0;31m    preprocessor = make_column_transformer( \"norm1\",[0,1,2,3]),remainder=\"passthrough\")\u001b[0m\n\u001b[0m                                                                                      ^\u001b[0m\n\u001b[0;31mSyntaxError\u001b[0m\u001b[0;31m:\u001b[0m invalid syntax\n"
     ]
    }
   ],
   "source": [
    "from sklearn.compose import ColumnTransformer, make_column_transformer\n",
    "from sklearn.preprocessing import LabelEncoder, OneHotEncoder\n",
    "\n",
    "preprocessor = make_column_transformer( (OneHotEncoder(),[0,1,2,3]),remainder=\"passthrough\")\n",
    "preprocessor.fit_transform(X)"
   ]
  },
  {
   "cell_type": "code",
   "execution_count": 11,
   "metadata": {},
   "outputs": [],
   "source": [
    "import numpy as np\n",
    "from sklearn.compose import ColumnTransformer\n",
    "from sklearn.preprocessing import Normalizer\n",
    "\n",
    "ct = ColumnTransformer(\n",
    "    [(\"norm1\", Normalizer(norm='l1'),[0,1])\n",
    "    ])\n"
   ]
  },
  {
   "cell_type": "code",
   "execution_count": 12,
   "metadata": {},
   "outputs": [
    {
     "ename": "ValueError",
     "evalue": "all features must be in [0, 0] or [-1, 0]",
     "output_type": "error",
     "traceback": [
      "\u001b[0;31m---------------------------------------------------------------------------\u001b[0m",
      "\u001b[0;31mIndexError\u001b[0m                                Traceback (most recent call last)",
      "\u001b[0;32m~/environments/job/lib/python3.6/site-packages/sklearn/utils/__init__.py\u001b[0m in \u001b[0;36m_get_column_indices\u001b[0;34m(X, key)\u001b[0m\n\u001b[1;32m    433\u001b[0m         \u001b[0;32mtry\u001b[0m\u001b[0;34m:\u001b[0m\u001b[0;34m\u001b[0m\u001b[0;34m\u001b[0m\u001b[0m\n\u001b[0;32m--> 434\u001b[0;31m             \u001b[0midx\u001b[0m \u001b[0;34m=\u001b[0m \u001b[0m_safe_indexing\u001b[0m\u001b[0;34m(\u001b[0m\u001b[0mnp\u001b[0m\u001b[0;34m.\u001b[0m\u001b[0marange\u001b[0m\u001b[0;34m(\u001b[0m\u001b[0mn_columns\u001b[0m\u001b[0;34m)\u001b[0m\u001b[0;34m,\u001b[0m \u001b[0mkey\u001b[0m\u001b[0;34m)\u001b[0m\u001b[0;34m\u001b[0m\u001b[0;34m\u001b[0m\u001b[0m\n\u001b[0m\u001b[1;32m    435\u001b[0m         \u001b[0;32mexcept\u001b[0m \u001b[0mIndexError\u001b[0m \u001b[0;32mas\u001b[0m \u001b[0me\u001b[0m\u001b[0;34m:\u001b[0m\u001b[0;34m\u001b[0m\u001b[0;34m\u001b[0m\u001b[0m\n",
      "\u001b[0;32m~/environments/job/lib/python3.6/site-packages/sklearn/utils/__init__.py\u001b[0m in \u001b[0;36m_safe_indexing\u001b[0;34m(X, indices, axis)\u001b[0m\n\u001b[1;32m    412\u001b[0m     \u001b[0;32melif\u001b[0m \u001b[0mhasattr\u001b[0m\u001b[0;34m(\u001b[0m\u001b[0mX\u001b[0m\u001b[0;34m,\u001b[0m \u001b[0;34m\"shape\"\u001b[0m\u001b[0;34m)\u001b[0m\u001b[0;34m:\u001b[0m\u001b[0;34m\u001b[0m\u001b[0;34m\u001b[0m\u001b[0m\n\u001b[0;32m--> 413\u001b[0;31m         \u001b[0;32mreturn\u001b[0m \u001b[0m_array_indexing\u001b[0m\u001b[0;34m(\u001b[0m\u001b[0mX\u001b[0m\u001b[0;34m,\u001b[0m \u001b[0mindices\u001b[0m\u001b[0;34m,\u001b[0m \u001b[0mindices_dtype\u001b[0m\u001b[0;34m,\u001b[0m \u001b[0maxis\u001b[0m\u001b[0;34m=\u001b[0m\u001b[0maxis\u001b[0m\u001b[0;34m)\u001b[0m\u001b[0;34m\u001b[0m\u001b[0;34m\u001b[0m\u001b[0m\n\u001b[0m\u001b[1;32m    414\u001b[0m     \u001b[0;32melse\u001b[0m\u001b[0;34m:\u001b[0m\u001b[0;34m\u001b[0m\u001b[0;34m\u001b[0m\u001b[0m\n",
      "\u001b[0;32m~/environments/job/lib/python3.6/site-packages/sklearn/utils/__init__.py\u001b[0m in \u001b[0;36m_array_indexing\u001b[0;34m(array, key, key_dtype, axis)\u001b[0m\n\u001b[1;32m    198\u001b[0m         \u001b[0mkey\u001b[0m \u001b[0;34m=\u001b[0m \u001b[0mlist\u001b[0m\u001b[0;34m(\u001b[0m\u001b[0mkey\u001b[0m\u001b[0;34m)\u001b[0m\u001b[0;34m\u001b[0m\u001b[0;34m\u001b[0m\u001b[0m\n\u001b[0;32m--> 199\u001b[0;31m     \u001b[0;32mreturn\u001b[0m \u001b[0marray\u001b[0m\u001b[0;34m[\u001b[0m\u001b[0mkey\u001b[0m\u001b[0;34m]\u001b[0m \u001b[0;32mif\u001b[0m \u001b[0maxis\u001b[0m \u001b[0;34m==\u001b[0m \u001b[0;36m0\u001b[0m \u001b[0;32melse\u001b[0m \u001b[0marray\u001b[0m\u001b[0;34m[\u001b[0m\u001b[0;34m:\u001b[0m\u001b[0;34m,\u001b[0m \u001b[0mkey\u001b[0m\u001b[0;34m]\u001b[0m\u001b[0;34m\u001b[0m\u001b[0;34m\u001b[0m\u001b[0m\n\u001b[0m\u001b[1;32m    200\u001b[0m \u001b[0;34m\u001b[0m\u001b[0m\n",
      "\u001b[0;31mIndexError\u001b[0m: index 1 is out of bounds for axis 0 with size 1",
      "\nThe above exception was the direct cause of the following exception:\n",
      "\u001b[0;31mValueError\u001b[0m                                Traceback (most recent call last)",
      "\u001b[0;32m<ipython-input-12-614ce0fd7569>\u001b[0m in \u001b[0;36m<module>\u001b[0;34m\u001b[0m\n\u001b[0;32m----> 1\u001b[0;31m \u001b[0mct\u001b[0m\u001b[0;34m.\u001b[0m\u001b[0mfit_transform\u001b[0m\u001b[0;34m(\u001b[0m\u001b[0mX\u001b[0m\u001b[0;34m[\u001b[0m\u001b[0;34m:\u001b[0m\u001b[0;34m,\u001b[0m\u001b[0;36m0\u001b[0m\u001b[0;34m:\u001b[0m\u001b[0;36m1\u001b[0m\u001b[0;34m]\u001b[0m\u001b[0;34m)\u001b[0m\u001b[0;34m\u001b[0m\u001b[0;34m\u001b[0m\u001b[0m\n\u001b[0m",
      "\u001b[0;32m~/environments/job/lib/python3.6/site-packages/sklearn/compose/_column_transformer.py\u001b[0m in \u001b[0;36mfit_transform\u001b[0;34m(self, X, y)\u001b[0m\n\u001b[1;32m    514\u001b[0m         \u001b[0mself\u001b[0m\u001b[0;34m.\u001b[0m\u001b[0m_validate_transformers\u001b[0m\u001b[0;34m(\u001b[0m\u001b[0;34m)\u001b[0m\u001b[0;34m\u001b[0m\u001b[0;34m\u001b[0m\u001b[0m\n\u001b[1;32m    515\u001b[0m         \u001b[0mself\u001b[0m\u001b[0;34m.\u001b[0m\u001b[0m_validate_column_callables\u001b[0m\u001b[0;34m(\u001b[0m\u001b[0mX\u001b[0m\u001b[0;34m)\u001b[0m\u001b[0;34m\u001b[0m\u001b[0;34m\u001b[0m\u001b[0m\n\u001b[0;32m--> 516\u001b[0;31m         \u001b[0mself\u001b[0m\u001b[0;34m.\u001b[0m\u001b[0m_validate_remainder\u001b[0m\u001b[0;34m(\u001b[0m\u001b[0mX\u001b[0m\u001b[0;34m)\u001b[0m\u001b[0;34m\u001b[0m\u001b[0;34m\u001b[0m\u001b[0m\n\u001b[0m\u001b[1;32m    517\u001b[0m \u001b[0;34m\u001b[0m\u001b[0m\n\u001b[1;32m    518\u001b[0m         \u001b[0mresult\u001b[0m \u001b[0;34m=\u001b[0m \u001b[0mself\u001b[0m\u001b[0;34m.\u001b[0m\u001b[0m_fit_transform\u001b[0m\u001b[0;34m(\u001b[0m\u001b[0mX\u001b[0m\u001b[0;34m,\u001b[0m \u001b[0my\u001b[0m\u001b[0;34m,\u001b[0m \u001b[0m_fit_transform_one\u001b[0m\u001b[0;34m)\u001b[0m\u001b[0;34m\u001b[0m\u001b[0;34m\u001b[0m\u001b[0m\n",
      "\u001b[0;32m~/environments/job/lib/python3.6/site-packages/sklearn/compose/_column_transformer.py\u001b[0m in \u001b[0;36m_validate_remainder\u001b[0;34m(self, X)\u001b[0m\n\u001b[1;32m    322\u001b[0m         \u001b[0mcols\u001b[0m \u001b[0;34m=\u001b[0m \u001b[0;34m[\u001b[0m\u001b[0;34m]\u001b[0m\u001b[0;34m\u001b[0m\u001b[0;34m\u001b[0m\u001b[0m\n\u001b[1;32m    323\u001b[0m         \u001b[0;32mfor\u001b[0m \u001b[0mcolumns\u001b[0m \u001b[0;32min\u001b[0m \u001b[0mself\u001b[0m\u001b[0;34m.\u001b[0m\u001b[0m_columns\u001b[0m\u001b[0;34m:\u001b[0m\u001b[0;34m\u001b[0m\u001b[0;34m\u001b[0m\u001b[0m\n\u001b[0;32m--> 324\u001b[0;31m             \u001b[0mcols\u001b[0m\u001b[0;34m.\u001b[0m\u001b[0mextend\u001b[0m\u001b[0;34m(\u001b[0m\u001b[0m_get_column_indices\u001b[0m\u001b[0;34m(\u001b[0m\u001b[0mX\u001b[0m\u001b[0;34m,\u001b[0m \u001b[0mcolumns\u001b[0m\u001b[0;34m)\u001b[0m\u001b[0;34m)\u001b[0m\u001b[0;34m\u001b[0m\u001b[0;34m\u001b[0m\u001b[0m\n\u001b[0m\u001b[1;32m    325\u001b[0m         \u001b[0mremaining_idx\u001b[0m \u001b[0;34m=\u001b[0m \u001b[0mlist\u001b[0m\u001b[0;34m(\u001b[0m\u001b[0mset\u001b[0m\u001b[0;34m(\u001b[0m\u001b[0mrange\u001b[0m\u001b[0;34m(\u001b[0m\u001b[0mself\u001b[0m\u001b[0;34m.\u001b[0m\u001b[0m_n_features\u001b[0m\u001b[0;34m)\u001b[0m\u001b[0;34m)\u001b[0m \u001b[0;34m-\u001b[0m \u001b[0mset\u001b[0m\u001b[0;34m(\u001b[0m\u001b[0mcols\u001b[0m\u001b[0;34m)\u001b[0m\u001b[0;34m)\u001b[0m\u001b[0;34m\u001b[0m\u001b[0;34m\u001b[0m\u001b[0m\n\u001b[1;32m    326\u001b[0m         \u001b[0mremaining_idx\u001b[0m \u001b[0;34m=\u001b[0m \u001b[0msorted\u001b[0m\u001b[0;34m(\u001b[0m\u001b[0mremaining_idx\u001b[0m\u001b[0;34m)\u001b[0m \u001b[0;32mor\u001b[0m \u001b[0;32mNone\u001b[0m\u001b[0;34m\u001b[0m\u001b[0;34m\u001b[0m\u001b[0m\n",
      "\u001b[0;32m~/environments/job/lib/python3.6/site-packages/sklearn/utils/__init__.py\u001b[0m in \u001b[0;36m_get_column_indices\u001b[0;34m(X, key)\u001b[0m\n\u001b[1;32m    437\u001b[0m                 \u001b[0;34m'all features must be in [0, {}] or [-{}, 0]'\u001b[0m\u001b[0;34m\u001b[0m\u001b[0;34m\u001b[0m\u001b[0m\n\u001b[1;32m    438\u001b[0m                 \u001b[0;34m.\u001b[0m\u001b[0mformat\u001b[0m\u001b[0;34m(\u001b[0m\u001b[0mn_columns\u001b[0m \u001b[0;34m-\u001b[0m \u001b[0;36m1\u001b[0m\u001b[0;34m,\u001b[0m \u001b[0mn_columns\u001b[0m\u001b[0;34m)\u001b[0m\u001b[0;34m\u001b[0m\u001b[0;34m\u001b[0m\u001b[0m\n\u001b[0;32m--> 439\u001b[0;31m             ) from e\n\u001b[0m\u001b[1;32m    440\u001b[0m         \u001b[0;32mreturn\u001b[0m \u001b[0mnp\u001b[0m\u001b[0;34m.\u001b[0m\u001b[0matleast_1d\u001b[0m\u001b[0;34m(\u001b[0m\u001b[0midx\u001b[0m\u001b[0;34m)\u001b[0m\u001b[0;34m.\u001b[0m\u001b[0mtolist\u001b[0m\u001b[0;34m(\u001b[0m\u001b[0;34m)\u001b[0m\u001b[0;34m\u001b[0m\u001b[0;34m\u001b[0m\u001b[0m\n\u001b[1;32m    441\u001b[0m     \u001b[0;32melif\u001b[0m \u001b[0mkey_dtype\u001b[0m \u001b[0;34m==\u001b[0m \u001b[0;34m'str'\u001b[0m\u001b[0;34m:\u001b[0m\u001b[0;34m\u001b[0m\u001b[0;34m\u001b[0m\u001b[0m\n",
      "\u001b[0;31mValueError\u001b[0m: all features must be in [0, 0] or [-1, 0]"
     ]
    }
   ],
   "source": [
    "ct.fit_transform(X[:,0:1])"
   ]
  },
  {
   "cell_type": "code",
   "execution_count": null,
   "metadata": {},
   "outputs": [],
   "source": []
  }
 ],
 "metadata": {
  "kernelspec": {
   "display_name": "Python 3",
   "language": "python",
   "name": "python3"
  },
  "language_info": {
   "codemirror_mode": {
    "name": "ipython",
    "version": 3
   },
   "file_extension": ".py",
   "mimetype": "text/x-python",
   "name": "python",
   "nbconvert_exporter": "python",
   "pygments_lexer": "ipython3",
   "version": "3.6.8"
  }
 },
 "nbformat": 4,
 "nbformat_minor": 2
}
